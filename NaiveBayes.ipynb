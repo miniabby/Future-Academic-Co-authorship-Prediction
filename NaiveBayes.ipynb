{
 "cells": [
  {
   "cell_type": "code",
   "execution_count": 1,
   "metadata": {},
   "outputs": [],
   "source": [
    "import pandas as pd\n",
    "import numpy as np\n",
    "\n",
    "import matplotlib.pyplot as plt\n",
    "from statistics import mean\n",
    "from sklearn.model_selection import KFold\n",
    "from sklearn.metrics import roc_auc_score\n",
    "from sklearn.naive_bayes import GaussianNB"
   ]
  },
  {
   "cell_type": "code",
   "execution_count": 2,
   "metadata": {},
   "outputs": [],
   "source": [
    "train_sm = pd.read_csv(\"small_train_sm.csv\")"
   ]
  },
  {
   "cell_type": "code",
   "execution_count": 3,
   "metadata": {},
   "outputs": [
    {
     "data": {
      "text/html": [
       "<div>\n",
       "<style scoped>\n",
       "    .dataframe tbody tr th:only-of-type {\n",
       "        vertical-align: middle;\n",
       "    }\n",
       "\n",
       "    .dataframe tbody tr th {\n",
       "        vertical-align: top;\n",
       "    }\n",
       "\n",
       "    .dataframe thead th {\n",
       "        text-align: right;\n",
       "    }\n",
       "</style>\n",
       "<table border=\"1\" class=\"dataframe\">\n",
       "  <thead>\n",
       "    <tr style=\"text-align: right;\">\n",
       "      <th></th>\n",
       "      <th>Source</th>\n",
       "      <th>Sink</th>\n",
       "      <th>NCA</th>\n",
       "      <th>Exist</th>\n",
       "      <th>Pair</th>\n",
       "      <th>CN</th>\n",
       "      <th>AA</th>\n",
       "      <th>RA</th>\n",
       "      <th>JC</th>\n",
       "      <th>PA</th>\n",
       "      <th>KI</th>\n",
       "      <th>PR</th>\n",
       "    </tr>\n",
       "  </thead>\n",
       "  <tbody>\n",
       "    <tr>\n",
       "      <th>0</th>\n",
       "      <td>1709</td>\n",
       "      <td>2591</td>\n",
       "      <td>0</td>\n",
       "      <td>0</td>\n",
       "      <td>(1709, 2591)</td>\n",
       "      <td>0</td>\n",
       "      <td>0.0</td>\n",
       "      <td>0.0</td>\n",
       "      <td>0.0</td>\n",
       "      <td>80</td>\n",
       "      <td>0.000046</td>\n",
       "      <td>0.000360</td>\n",
       "    </tr>\n",
       "    <tr>\n",
       "      <th>1</th>\n",
       "      <td>1445</td>\n",
       "      <td>3222</td>\n",
       "      <td>0</td>\n",
       "      <td>0</td>\n",
       "      <td>(1445, 3222)</td>\n",
       "      <td>0</td>\n",
       "      <td>0.0</td>\n",
       "      <td>0.0</td>\n",
       "      <td>0.0</td>\n",
       "      <td>4</td>\n",
       "      <td>0.000002</td>\n",
       "      <td>0.000214</td>\n",
       "    </tr>\n",
       "    <tr>\n",
       "      <th>2</th>\n",
       "      <td>395</td>\n",
       "      <td>3684</td>\n",
       "      <td>0</td>\n",
       "      <td>0</td>\n",
       "      <td>(395, 3684)</td>\n",
       "      <td>0</td>\n",
       "      <td>0.0</td>\n",
       "      <td>0.0</td>\n",
       "      <td>0.0</td>\n",
       "      <td>14</td>\n",
       "      <td>0.000000</td>\n",
       "      <td>0.000235</td>\n",
       "    </tr>\n",
       "    <tr>\n",
       "      <th>3</th>\n",
       "      <td>3572</td>\n",
       "      <td>3618</td>\n",
       "      <td>0</td>\n",
       "      <td>0</td>\n",
       "      <td>(3572, 3618)</td>\n",
       "      <td>0</td>\n",
       "      <td>0.0</td>\n",
       "      <td>0.0</td>\n",
       "      <td>0.0</td>\n",
       "      <td>12</td>\n",
       "      <td>-0.000079</td>\n",
       "      <td>0.000147</td>\n",
       "    </tr>\n",
       "    <tr>\n",
       "      <th>4</th>\n",
       "      <td>859</td>\n",
       "      <td>1755</td>\n",
       "      <td>0</td>\n",
       "      <td>0</td>\n",
       "      <td>(859, 1755)</td>\n",
       "      <td>0</td>\n",
       "      <td>0.0</td>\n",
       "      <td>0.0</td>\n",
       "      <td>0.0</td>\n",
       "      <td>30</td>\n",
       "      <td>0.013973</td>\n",
       "      <td>0.000165</td>\n",
       "    </tr>\n",
       "  </tbody>\n",
       "</table>\n",
       "</div>"
      ],
      "text/plain": [
       "   Source  Sink  NCA  Exist          Pair  CN   AA   RA   JC  PA        KI  \\\n",
       "0    1709  2591    0      0  (1709, 2591)   0  0.0  0.0  0.0  80  0.000046   \n",
       "1    1445  3222    0      0  (1445, 3222)   0  0.0  0.0  0.0   4  0.000002   \n",
       "2     395  3684    0      0   (395, 3684)   0  0.0  0.0  0.0  14  0.000000   \n",
       "3    3572  3618    0      0  (3572, 3618)   0  0.0  0.0  0.0  12 -0.000079   \n",
       "4     859  1755    0      0   (859, 1755)   0  0.0  0.0  0.0  30  0.013973   \n",
       "\n",
       "         PR  \n",
       "0  0.000360  \n",
       "1  0.000214  \n",
       "2  0.000235  \n",
       "3  0.000147  \n",
       "4  0.000165  "
      ]
     },
     "execution_count": 3,
     "metadata": {},
     "output_type": "execute_result"
    }
   ],
   "source": [
    "train_sm.head()"
   ]
  },
  {
   "cell_type": "code",
   "execution_count": 4,
   "metadata": {},
   "outputs": [
    {
     "data": {
      "text/plain": [
       "(32072, 12)"
      ]
     },
     "execution_count": 4,
     "metadata": {},
     "output_type": "execute_result"
    }
   ],
   "source": [
    "train_sm.shape"
   ]
  },
  {
   "cell_type": "code",
   "execution_count": 5,
   "metadata": {},
   "outputs": [
    {
     "data": {
      "text/plain": [
       "0    16036\n",
       "1    16036\n",
       "Name: Exist, dtype: int64"
      ]
     },
     "execution_count": 5,
     "metadata": {},
     "output_type": "execute_result"
    }
   ],
   "source": [
    "train_sm.Exist.value_counts()"
   ]
  },
  {
   "cell_type": "code",
   "execution_count": 6,
   "metadata": {},
   "outputs": [],
   "source": [
    "n_splits=5\n",
    "kf = KFold(n_splits=n_splits, shuffle=True, random_state=0)\n",
    "\n",
    "gnb = GaussianNB()"
   ]
  },
  {
   "cell_type": "markdown",
   "metadata": {},
   "source": [
    "## Node2Vec Features"
   ]
  },
  {
   "cell_type": "code",
   "execution_count": 7,
   "metadata": {},
   "outputs": [
    {
     "data": {
      "text/html": [
       "<div>\n",
       "<style scoped>\n",
       "    .dataframe tbody tr th:only-of-type {\n",
       "        vertical-align: middle;\n",
       "    }\n",
       "\n",
       "    .dataframe tbody tr th {\n",
       "        vertical-align: top;\n",
       "    }\n",
       "\n",
       "    .dataframe thead th {\n",
       "        text-align: right;\n",
       "    }\n",
       "</style>\n",
       "<table border=\"1\" class=\"dataframe\">\n",
       "  <thead>\n",
       "    <tr style=\"text-align: right;\">\n",
       "      <th></th>\n",
       "      <th>AUC</th>\n",
       "    </tr>\n",
       "  </thead>\n",
       "  <tbody>\n",
       "    <tr>\n",
       "      <th>15</th>\n",
       "      <td>0.811592</td>\n",
       "    </tr>\n",
       "    <tr>\n",
       "      <th>20</th>\n",
       "      <td>0.847048</td>\n",
       "    </tr>\n",
       "    <tr>\n",
       "      <th>25</th>\n",
       "      <td>0.874338</td>\n",
       "    </tr>\n",
       "    <tr>\n",
       "      <th>30</th>\n",
       "      <td>0.903636</td>\n",
       "    </tr>\n",
       "    <tr>\n",
       "      <th>35</th>\n",
       "      <td>0.922357</td>\n",
       "    </tr>\n",
       "    <tr>\n",
       "      <th>40</th>\n",
       "      <td>0.927043</td>\n",
       "    </tr>\n",
       "    <tr>\n",
       "      <th>45</th>\n",
       "      <td>0.942124</td>\n",
       "    </tr>\n",
       "    <tr>\n",
       "      <th>50</th>\n",
       "      <td>0.944963</td>\n",
       "    </tr>\n",
       "    <tr>\n",
       "      <th>55</th>\n",
       "      <td>0.947776</td>\n",
       "    </tr>\n",
       "  </tbody>\n",
       "</table>\n",
       "</div>"
      ],
      "text/plain": [
       "         AUC\n",
       "15  0.811592\n",
       "20  0.847048\n",
       "25  0.874338\n",
       "30  0.903636\n",
       "35  0.922357\n",
       "40  0.927043\n",
       "45  0.942124\n",
       "50  0.944963\n",
       "55  0.947776"
      ]
     },
     "execution_count": 7,
     "metadata": {},
     "output_type": "execute_result"
    }
   ],
   "source": [
    "ds = [15, 20, 25, 30, 35, 40, 45, 50, 55]\n",
    "auc_n2v = []\n",
    "for d in ds:\n",
    "    train = pd.read_csv(\"small_train_n2v_{}.csv\".format(d))\n",
    "    n2vF = [\"n2v_\"+str(i+1) for i in range(d)] # node2vec feature list\n",
    "    X = train[n2vF]\n",
    "    y = train['Exist']\n",
    "    \n",
    "    # Fitting a model with all Node2Vec features\n",
    "    auc = []\n",
    "    for train_index, test_index in kf.split(X):\n",
    "        # split the train data and test data\n",
    "        X_train, X_test = X.iloc[train_index,:], X.iloc[test_index,:]\n",
    "        y_train, y_test = y[train_index], y[test_index]\n",
    "\n",
    "        y_pred = gnb.fit(X_train, y_train).predict_proba(X_test)\n",
    "        auc.append(roc_auc_score(y_test, y_pred[:,1]))\n",
    "    \n",
    "    auc_n2v.append(mean(auc))\n",
    "    \n",
    "auc_n2v = pd.DataFrame(auc_n2v, columns=[\"AUC\"])\n",
    "auc_n2v.index = ds\n",
    "auc_n2v"
   ]
  },
  {
   "cell_type": "markdown",
   "metadata": {},
   "source": [
    "## Unweighted Similarity based Features"
   ]
  },
  {
   "cell_type": "code",
   "execution_count": 8,
   "metadata": {},
   "outputs": [
    {
     "name": "stdout",
     "output_type": "stream",
     "text": [
      "The average AUC is: 0.9871898515999235\n"
     ]
    }
   ],
   "source": [
    "# unweighted feature list\n",
    "uwF = ['CN', 'AA', 'RA', 'JC', 'PA', 'KI', 'PR']\n",
    "X = train_sm[uwF]\n",
    "y = train_sm['Exist']\n",
    "\n",
    "auc = []\n",
    "for train_index, test_index in kf.split(X, y):\n",
    "    # split the train data and test data\n",
    "    X_train, X_test = X.iloc[train_index,:], X.iloc[test_index,:]\n",
    "    y_train, y_test = y[train_index], y[test_index]\n",
    "    \n",
    "    y_pred = gnb.fit(X_train, y_train).predict_proba(X_test)\n",
    "    auc.append(roc_auc_score(y_test, y_pred[:,1]))\n",
    "\n",
    "print(\"The average AUC is:\", mean(auc))"
   ]
  },
  {
   "cell_type": "markdown",
   "metadata": {},
   "source": [
    "## Single Unweighted Similarity Based Features"
   ]
  },
  {
   "cell_type": "code",
   "execution_count": 10,
   "metadata": {},
   "outputs": [
    {
     "data": {
      "text/html": [
       "<div>\n",
       "<style scoped>\n",
       "    .dataframe tbody tr th:only-of-type {\n",
       "        vertical-align: middle;\n",
       "    }\n",
       "\n",
       "    .dataframe tbody tr th {\n",
       "        vertical-align: top;\n",
       "    }\n",
       "\n",
       "    .dataframe thead th {\n",
       "        text-align: right;\n",
       "    }\n",
       "</style>\n",
       "<table border=\"1\" class=\"dataframe\">\n",
       "  <thead>\n",
       "    <tr style=\"text-align: right;\">\n",
       "      <th></th>\n",
       "      <th>AUC</th>\n",
       "    </tr>\n",
       "    <tr>\n",
       "      <th>Features</th>\n",
       "      <th></th>\n",
       "    </tr>\n",
       "  </thead>\n",
       "  <tbody>\n",
       "    <tr>\n",
       "      <th>CN</th>\n",
       "      <td>0.961240</td>\n",
       "    </tr>\n",
       "    <tr>\n",
       "      <th>AA</th>\n",
       "      <td>0.962550</td>\n",
       "    </tr>\n",
       "    <tr>\n",
       "      <th>RA</th>\n",
       "      <td>0.962878</td>\n",
       "    </tr>\n",
       "    <tr>\n",
       "      <th>JC</th>\n",
       "      <td>0.961809</td>\n",
       "    </tr>\n",
       "    <tr>\n",
       "      <th>PA</th>\n",
       "      <td>0.753979</td>\n",
       "    </tr>\n",
       "    <tr>\n",
       "      <th>KI</th>\n",
       "      <td>0.961263</td>\n",
       "    </tr>\n",
       "    <tr>\n",
       "      <th>PR</th>\n",
       "      <td>0.809424</td>\n",
       "    </tr>\n",
       "  </tbody>\n",
       "</table>\n",
       "</div>"
      ],
      "text/plain": [
       "               AUC\n",
       "Features          \n",
       "CN        0.961240\n",
       "AA        0.962550\n",
       "RA        0.962878\n",
       "JC        0.961809\n",
       "PA        0.753979\n",
       "KI        0.961263\n",
       "PR        0.809424"
      ]
     },
     "execution_count": 10,
     "metadata": {},
     "output_type": "execute_result"
    }
   ],
   "source": [
    "# Fitting models with single attribute\n",
    "auc_single = []\n",
    "for fN in uwF:\n",
    "    gnb = GaussianNB()\n",
    "    auc = []\n",
    "    for train_index, test_index in kf.split(X, y):\n",
    "        # split the train data and test data\n",
    "        X_train, X_test = X[[fN]].iloc[train_index,:], X[[fN]].iloc[test_index,:]\n",
    "        y_train, y_test = y[train_index], y[test_index]\n",
    "\n",
    "        y_pred = gnb.fit(X_train, y_train).predict_proba(X_test)\n",
    "        auc.append(roc_auc_score(y_test, y_pred[:,1]))\n",
    "    auc_single.append(mean(auc))\n",
    "\n",
    "auc_single = pd.DataFrame({'Features': uwF, 'AUC': auc_single}).set_index('Features')\n",
    "auc_single"
   ]
  },
  {
   "cell_type": "markdown",
   "metadata": {},
   "source": [
    "## Weighted Similarity based Features"
   ]
  },
  {
   "cell_type": "markdown",
   "metadata": {},
   "source": [
    "### Finding the optimal alpha"
   ]
  },
  {
   "cell_type": "code",
   "execution_count": 1,
   "metadata": {},
   "outputs": [
    {
     "ename": "NameError",
     "evalue": "name 'train_sm' is not defined",
     "output_type": "error",
     "traceback": [
      "\u001b[0;31m---------------------------------------------------------------------------\u001b[0m",
      "\u001b[0;31mNameError\u001b[0m                                 Traceback (most recent call last)",
      "\u001b[0;32m<ipython-input-1-ca59ad6f72b1>\u001b[0m in \u001b[0;36m<module>\u001b[0;34m\u001b[0m\n\u001b[1;32m      2\u001b[0m \u001b[0mweak_ties\u001b[0m \u001b[0;34m=\u001b[0m \u001b[0;34m[\u001b[0m\u001b[0;34m\"alphas/weak_ties_{}.csv\"\u001b[0m\u001b[0;34m.\u001b[0m\u001b[0mformat\u001b[0m\u001b[0;34m(\u001b[0m\u001b[0malpha\u001b[0m\u001b[0;34m)\u001b[0m \u001b[0;32mfor\u001b[0m \u001b[0malpha\u001b[0m \u001b[0;32min\u001b[0m \u001b[0malphas\u001b[0m\u001b[0;34m]\u001b[0m\u001b[0;34m\u001b[0m\u001b[0;34m\u001b[0m\u001b[0m\n\u001b[1;32m      3\u001b[0m \u001b[0;34m\u001b[0m\u001b[0m\n\u001b[0;32m----> 4\u001b[0;31m \u001b[0munweighted_train\u001b[0m \u001b[0;34m=\u001b[0m \u001b[0mtrain_sm\u001b[0m\u001b[0;34m[\u001b[0m\u001b[0;34m[\u001b[0m\u001b[0;34m'Pair'\u001b[0m\u001b[0;34m,\u001b[0m \u001b[0;34m'CN'\u001b[0m\u001b[0;34m,\u001b[0m \u001b[0;34m'AA'\u001b[0m\u001b[0;34m,\u001b[0m \u001b[0;34m'RA'\u001b[0m\u001b[0;34m,\u001b[0m \u001b[0;34m'Exist'\u001b[0m\u001b[0;34m]\u001b[0m\u001b[0;34m]\u001b[0m\u001b[0;34m\u001b[0m\u001b[0;34m\u001b[0m\u001b[0m\n\u001b[0m\u001b[1;32m      5\u001b[0m \u001b[0;34m\u001b[0m\u001b[0m\n\u001b[1;32m      6\u001b[0m \u001b[0mauc_alpha\u001b[0m\u001b[0;34m=\u001b[0m\u001b[0;34m[\u001b[0m\u001b[0;34m]\u001b[0m\u001b[0;34m\u001b[0m\u001b[0;34m\u001b[0m\u001b[0m\n",
      "\u001b[0;31mNameError\u001b[0m: name 'train_sm' is not defined"
     ]
    }
   ],
   "source": [
    "alphas = [round(a*0.1,1) for a in range(-20, 25)]\n",
    "weak_ties = [\"alphas/weak_ties_{}.csv\".format(alpha) for alpha in alphas]\n",
    "\n",
    "unweighted_train = train_sm[['Pair', 'CN', 'AA', 'RA', 'Exist']]\n",
    "\n",
    "auc_alpha=[]\n",
    "for weak_tie in weak_ties:\n",
    "    weighted_train = pd.read_csv(weak_tie, index_col=0)\n",
    "    both = unweighted_train.join(weighted_train, on=\"Pair\")\n",
    "    X = both[['WCN', 'WAA', 'WRA']]\n",
    "    y = both[\"Exist\"]\n",
    "    \n",
    "    auc=[]\n",
    "    for train_index, test_index in kf.split(X, y):\n",
    "        X_train, X_test = X.iloc[train_index,:], X.iloc[test_index,:]\n",
    "        y_train, y_test = y[train_index], y[test_index]\n",
    "        \n",
    "        y_pred = gnb.fit(X_train, y_train).predict_proba(X_test)\n",
    "        auc.append(roc_auc_score(y_test, y_pred[:,1]))\n",
    "    \n",
    "    auc_alpha.append(mean(auc))\n",
    "\n",
    "auc_alphaDF = pd.DataFrame(auc_alpha, columns=['AUC'])\n",
    "auc_alphaDF.index = alphas\n",
    "auc_alphaDF.head()"
   ]
  },
  {
   "cell_type": "code",
   "execution_count": 13,
   "metadata": {},
   "outputs": [
    {
     "data": {
      "image/png": "[encoded data removed]",
      "text/plain": [
       "<Figure size 432x288 with 1 Axes>"
      ]
     },
     "metadata": {
      "needs_background": "light"
     },
     "output_type": "display_data"
    }
   ],
   "source": [
    "fig = plt.figure()\n",
    "ax1 = fig.add_subplot(111)\n",
    "\n",
    "ax1.scatter(auc_alphaDF.index, auc_alphaDF.AUC, s=10, c='b', marker=\"o\")\n",
    "\n",
    "plt.show()"
   ]
  },
  {
   "cell_type": "code",
   "execution_count": 14,
   "metadata": {},
   "outputs": [
    {
     "name": "stdout",
     "output_type": "stream",
     "text": [
      "The optimal alpha is 2.0\n"
     ]
    }
   ],
   "source": [
    "print('The optimal alpha is {}'.format(auc_alphaDF.AUC.idxmax()))"
   ]
  },
  {
   "cell_type": "markdown",
   "metadata": {},
   "source": [
    "### Weighted Features with the optimal alpha (2.0)"
   ]
  },
  {
   "cell_type": "code",
   "execution_count": 15,
   "metadata": {},
   "outputs": [
    {
     "name": "stdout",
     "output_type": "stream",
     "text": [
      "The average AUC is: 0.9870049652151199\n"
     ]
    }
   ],
   "source": [
    "# unweighted feature list\n",
    "alpha = 2.0\n",
    "wF = ['WCN', 'WAA', 'WRA', 'JC', 'PA', 'KI', 'PR']\n",
    "weighted_train = pd.read_csv(\"alphas/weak_ties_{}.csv\".format(alpha), index_col=0)\n",
    "both = train_sm.join(weighted_train, on=\"Pair\")\n",
    "X = both[wF]\n",
    "y = both['Exist']\n",
    "\n",
    "auc = []\n",
    "for train_index, test_index in kf.split(X, y):\n",
    "    # split the train data and test data\n",
    "    X_train, X_test = X.iloc[train_index,:], X.iloc[test_index,:]\n",
    "    y_train, y_test = y[train_index], y[test_index]\n",
    "    \n",
    "    y_pred = gnb.fit(X_train, y_train).predict_proba(X_test)\n",
    "    auc.append(roc_auc_score(y_test, y_pred[:,1]))\n",
    "\n",
    "print(\"The average AUC is:\", mean(auc))"
   ]
  },
  {
   "cell_type": "markdown",
   "metadata": {},
   "source": [
    "## Node2Vec (45) + Unweighted similarities"
   ]
  },
  {
   "cell_type": "code",
   "execution_count": 16,
   "metadata": {},
   "outputs": [
    {
     "name": "stdout",
     "output_type": "stream",
     "text": [
      "The average AUC is: 0.9873951130611671\n"
     ]
    }
   ],
   "source": [
    "d=45\n",
    "n2vF = [\"n2v_\"+str(i+1) for i in range(d)]\n",
    "uwF = ['CN', 'AA', 'RA', 'JC', 'PA', 'KI', 'PR']\n",
    "\n",
    "train_n2v = pd.read_csv(\"small_train_n2v_{}.csv\".format(d))\n",
    "train_n2v = train_n2v[n2vF+[\"Pair\"]]\n",
    "\n",
    "train_uw = pd.read_csv(\"small_train_sm.csv\")\n",
    "\n",
    "combined = train_uw.join(train_n2v.set_index(\"Pair\"), on=\"Pair\")\n",
    "\n",
    "X = combined[uwF+n2vF]\n",
    "y = combined['Exist']\n",
    "\n",
    "auc = []\n",
    "for train_index, test_index in kf.split(X, y):\n",
    "    # split the train data and test data\n",
    "    X_train, X_test = X.iloc[train_index,:], X.iloc[test_index,:]\n",
    "    y_train, y_test = y[train_index], y[test_index]\n",
    "    \n",
    "    y_pred = gnb.fit(X_train, y_train).predict_proba(X_test)\n",
    "    auc.append(roc_auc_score(y_test, y_pred[:,1]))\n",
    "\n",
    "print(\"The average AUC is:\", mean(auc))"
   ]
  },
  {
   "cell_type": "markdown",
   "metadata": {},
   "source": [
    "## Node2Vec (45) + Weighted similarities (2.0)"
   ]
  },
  {
   "cell_type": "code",
   "execution_count": 17,
   "metadata": {},
   "outputs": [
    {
     "name": "stdout",
     "output_type": "stream",
     "text": [
      "The average AUC is: 0.9876358240292349\n"
     ]
    }
   ],
   "source": [
    "d=45\n",
    "alpha = 2.0\n",
    "\n",
    "n2vF = [\"n2v_\" + str(i+1) for i in range(d)]\n",
    "wF = ['WCN', 'WAA', 'WRA', 'JC', 'PA', 'KI', 'PR']\n",
    "\n",
    "train_uw = pd.read_csv(\"small_train_sm.csv\")\n",
    "\n",
    "train_n2v = pd.read_csv(\"small_train_n2v_{}.csv\".format(d))\n",
    "train_n2v = train_n2v[n2vF+[\"Pair\"]]\n",
    "\n",
    "train_w = pd.read_csv(\"alphas/weak_ties_{}.csv\".format(alpha), index_col=0)\n",
    "\n",
    "combined = train_uw.join(train_n2v.set_index(\"Pair\"), on=\"Pair\").join(train_w, on=\"Pair\")\n",
    "\n",
    "X = combined[wF + n2vF]\n",
    "y = combined['Exist']\n",
    "\n",
    "auc = []\n",
    "for train_index, test_index in kf.split(X, y):\n",
    "    # split the train data and test data\n",
    "    X_train, X_test = X.iloc[train_index,:], X.iloc[test_index,:]\n",
    "    y_train, y_test = y[train_index], y[test_index]\n",
    "    \n",
    "    y_pred = gnb.fit(X_train, y_train).predict_proba(X_test)\n",
    "    auc.append(roc_auc_score(y_test, y_pred[:,1]))\n",
    "\n",
    "print(\"The average AUC is:\", mean(auc))"
   ]
  },
  {
   "cell_type": "code",
   "execution_count": null,
   "metadata": {},
   "outputs": [],
   "source": []
  }
 ],
 "metadata": {
  "kernelspec": {
   "display_name": "Python 3",
   "language": "python",
   "name": "python3"
  },
  "language_info": {
   "codemirror_mode": {
    "name": "ipython",
    "version": 3
   },
   "file_extension": ".py",
   "mimetype": "text/x-python",
   "name": "python",
   "nbconvert_exporter": "python",
   "pygments_lexer": "ipython3",
   "version": "3.7.1"
  }
 },
 "nbformat": 4,
 "nbformat_minor": 4
}
