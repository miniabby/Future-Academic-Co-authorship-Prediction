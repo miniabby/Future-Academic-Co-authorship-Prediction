{
 "cells": [
  {
   "cell_type": "code",
   "execution_count": 1,
   "metadata": {},
   "outputs": [],
   "source": [
    "import pandas as pd\n",
    "from statistics import mean\n",
    "from sklearn.model_selection import train_test_split\n",
    "from sklearn.model_selection import KFold\n",
    "\n",
    "from imblearn.under_sampling import RandomUnderSampler\n",
    "\n",
    "from sklearn import svm\n",
    "\n",
    "from sklearn.metrics import roc_auc_score\n",
    "\n",
    "#from sklearn.feature_selection import SequentialFeatureSelector\n",
    "from mlxtend.feature_selection import SequentialFeatureSelector as SFS"
   ]
  },
  {
   "cell_type": "code",
   "execution_count": 2,
   "metadata": {},
   "outputs": [
    {
     "data": {
      "text/html": [
       "<div>\n",
       "<style scoped>\n",
       "    .dataframe tbody tr th:only-of-type {\n",
       "        vertical-align: middle;\n",
       "    }\n",
       "\n",
       "    .dataframe tbody tr th {\n",
       "        vertical-align: top;\n",
       "    }\n",
       "\n",
       "    .dataframe thead th {\n",
       "        text-align: right;\n",
       "    }\n",
       "</style>\n",
       "<table border=\"1\" class=\"dataframe\">\n",
       "  <thead>\n",
       "    <tr style=\"text-align: right;\">\n",
       "      <th></th>\n",
       "      <th>Pair</th>\n",
       "      <th>Source</th>\n",
       "      <th>Sink</th>\n",
       "      <th>NCA</th>\n",
       "      <th>Exist</th>\n",
       "      <th>CN</th>\n",
       "      <th>AA</th>\n",
       "      <th>RA</th>\n",
       "      <th>JC</th>\n",
       "      <th>PA</th>\n",
       "      <th>KI</th>\n",
       "      <th>PR_s1</th>\n",
       "      <th>PR_s2</th>\n",
       "    </tr>\n",
       "  </thead>\n",
       "  <tbody>\n",
       "    <tr>\n",
       "      <th>0</th>\n",
       "      <td>(0, 356)</td>\n",
       "      <td>0</td>\n",
       "      <td>356</td>\n",
       "      <td>14</td>\n",
       "      <td>1</td>\n",
       "      <td>7</td>\n",
       "      <td>2.899858</td>\n",
       "      <td>0.628968</td>\n",
       "      <td>0.700000</td>\n",
       "      <td>72</td>\n",
       "      <td>0.079962</td>\n",
       "      <td>0.00022</td>\n",
       "      <td>0.000240</td>\n",
       "    </tr>\n",
       "    <tr>\n",
       "      <th>1</th>\n",
       "      <td>(0, 1236)</td>\n",
       "      <td>0</td>\n",
       "      <td>1236</td>\n",
       "      <td>14</td>\n",
       "      <td>1</td>\n",
       "      <td>6</td>\n",
       "      <td>2.471649</td>\n",
       "      <td>0.531746</td>\n",
       "      <td>0.428571</td>\n",
       "      <td>96</td>\n",
       "      <td>0.075137</td>\n",
       "      <td>0.00022</td>\n",
       "      <td>0.000302</td>\n",
       "    </tr>\n",
       "    <tr>\n",
       "      <th>2</th>\n",
       "      <td>(356, 1236)</td>\n",
       "      <td>356</td>\n",
       "      <td>1236</td>\n",
       "      <td>14</td>\n",
       "      <td>1</td>\n",
       "      <td>7</td>\n",
       "      <td>2.812086</td>\n",
       "      <td>0.587302</td>\n",
       "      <td>0.500000</td>\n",
       "      <td>108</td>\n",
       "      <td>0.074232</td>\n",
       "      <td>0.00024</td>\n",
       "      <td>0.000302</td>\n",
       "    </tr>\n",
       "    <tr>\n",
       "      <th>3</th>\n",
       "      <td>(0, 1655)</td>\n",
       "      <td>0</td>\n",
       "      <td>1655</td>\n",
       "      <td>9</td>\n",
       "      <td>1</td>\n",
       "      <td>7</td>\n",
       "      <td>2.976054</td>\n",
       "      <td>0.668651</td>\n",
       "      <td>0.466667</td>\n",
       "      <td>112</td>\n",
       "      <td>0.083302</td>\n",
       "      <td>0.00022</td>\n",
       "      <td>0.000376</td>\n",
       "    </tr>\n",
       "    <tr>\n",
       "      <th>4</th>\n",
       "      <td>(0, 1797)</td>\n",
       "      <td>0</td>\n",
       "      <td>1797</td>\n",
       "      <td>4</td>\n",
       "      <td>1</td>\n",
       "      <td>7</td>\n",
       "      <td>2.899858</td>\n",
       "      <td>0.628968</td>\n",
       "      <td>0.700000</td>\n",
       "      <td>72</td>\n",
       "      <td>0.081045</td>\n",
       "      <td>0.00022</td>\n",
       "      <td>0.000245</td>\n",
       "    </tr>\n",
       "  </tbody>\n",
       "</table>\n",
       "</div>"
      ],
      "text/plain": [
       "          Pair  Source  Sink  NCA  Exist  CN        AA        RA        JC  \\\n",
       "0     (0, 356)       0   356   14      1   7  2.899858  0.628968  0.700000   \n",
       "1    (0, 1236)       0  1236   14      1   6  2.471649  0.531746  0.428571   \n",
       "2  (356, 1236)     356  1236   14      1   7  2.812086  0.587302  0.500000   \n",
       "3    (0, 1655)       0  1655    9      1   7  2.976054  0.668651  0.466667   \n",
       "4    (0, 1797)       0  1797    4      1   7  2.899858  0.628968  0.700000   \n",
       "\n",
       "    PA        KI    PR_s1     PR_s2  \n",
       "0   72  0.079962  0.00022  0.000240  \n",
       "1   96  0.075137  0.00022  0.000302  \n",
       "2  108  0.074232  0.00024  0.000302  \n",
       "3  112  0.083302  0.00022  0.000376  \n",
       "4   72  0.081045  0.00022  0.000245  "
      ]
     },
     "execution_count": 2,
     "metadata": {},
     "output_type": "execute_result"
    }
   ],
   "source": [
    "train = pd.read_csv(\"train.csv\")\n",
    "train.head()"
   ]
  },
  {
   "cell_type": "code",
   "execution_count": 3,
   "metadata": {},
   "outputs": [],
   "source": [
    "X = train[['NCA', 'CN', 'AA', 'RA', 'JC', 'PA', 'KI', 'PR_s1', 'PR_s2']]\n",
    "y = train['Exist']"
   ]
  },
  {
   "cell_type": "code",
   "execution_count": 4,
   "metadata": {},
   "outputs": [],
   "source": [
    "# balance the dataset by undersampling\n",
    "rus = RandomUnderSampler(sampling_strategy=\"majority\")\n",
    "X, y= rus.fit_resample(X, y)"
   ]
  },
  {
   "cell_type": "code",
   "execution_count": 5,
   "metadata": {},
   "outputs": [
    {
     "data": {
      "text/plain": [
       "0    16034\n",
       "1    16034\n",
       "Name: Exist, dtype: int64"
      ]
     },
     "execution_count": 5,
     "metadata": {},
     "output_type": "execute_result"
    }
   ],
   "source": [
    "y.value_counts()"
   ]
  },
  {
   "cell_type": "code",
   "execution_count": 6,
   "metadata": {},
   "outputs": [],
   "source": [
    "# perform 5 fold cross validation\n",
    "n_splits=5\n",
    "kf = KFold(n_splits=n_splits, shuffle=True)\n",
    "\n",
    "clf = svm.SVC(probability=True, max_iter=15000)\n",
    "auc = []\n",
    "for train_index, test_index in kf.split(X):\n",
    "    # split the train data and test data\n",
    "    X_train, X_test = X.iloc[train_index,:], X.iloc[test_index,:]\n",
    "    y_train, y_test = y[train_index], y[test_index]\n",
    "    \n",
    "    y_pred = clf.fit(X_train, y_train).predict_proba(X_test)\n",
    "    auc.append(roc_auc_score(y_test, y_pred[:,1]))"
   ]
  },
  {
   "cell_type": "code",
   "execution_count": 7,
   "metadata": {},
   "outputs": [
    {
     "data": {
      "text/plain": [
       "array([[0.81721598, 0.18278402],\n",
       "       [0.7936248 , 0.2063752 ],\n",
       "       [0.04286627, 0.95713373],\n",
       "       ...,\n",
       "       [0.679241  , 0.320759  ],\n",
       "       [0.8007747 , 0.1992253 ],\n",
       "       [0.04280751, 0.95719249]])"
      ]
     },
     "execution_count": 7,
     "metadata": {},
     "output_type": "execute_result"
    }
   ],
   "source": [
    "y_pred"
   ]
  },
  {
   "cell_type": "code",
   "execution_count": 8,
   "metadata": {},
   "outputs": [
    {
     "name": "stdout",
     "output_type": "stream",
     "text": [
      "The average AUC is: 0.8659121093519531\n"
     ]
    }
   ],
   "source": [
    "print(\"The average AUC is:\", mean(auc))"
   ]
  },
  {
   "cell_type": "code",
   "execution_count": 9,
   "metadata": {},
   "outputs": [],
   "source": [
    "# feature selection\n",
    "# sbs = SFS(clf, k_features=4, forward=False, floating=False, cv=0)\n",
    "# sbs.fit(X, y)\n",
    "# sbs.k_feature_names_\n",
    "\n",
    "# output: ('NCA', 'CN', 'AA', 'RA')"
   ]
  },
  {
   "cell_type": "code",
   "execution_count": 10,
   "metadata": {},
   "outputs": [],
   "source": [
    "# fit a model with selected features\n",
    "# X = train[['NCA', 'CN', 'AA', 'RA']]\n",
    "\n",
    "# auc=[]\n",
    "# for train_index, test_index in kf.split(y):\n",
    "    # split the train data and test data\n",
    "    #X_train, X_test = X.iloc[train_index,:], X.iloc[test_index,:]\n",
    "    #y_train, y_test = y[train_index], y[test_index]\n",
    "    \n",
    "    #y_pred = clf.fit(X_train, y_train).predict_proba(X_test)\n",
    "    #auc.append(roc_auc_score(y_test, y_pred[:,1]))"
   ]
  },
  {
   "cell_type": "code",
   "execution_count": 11,
   "metadata": {},
   "outputs": [],
   "source": [
    "#y_pred"
   ]
  },
  {
   "cell_type": "code",
   "execution_count": 12,
   "metadata": {},
   "outputs": [],
   "source": [
    "#print(\"The average AUC after feature selection is:\", mean(auc))"
   ]
  },
  {
   "cell_type": "code",
   "execution_count": null,
   "metadata": {},
   "outputs": [],
   "source": []
  }
 ],
 "metadata": {
  "kernelspec": {
   "display_name": "Python 3",
   "language": "python",
   "name": "python3"
  },
  "language_info": {
   "codemirror_mode": {
    "name": "ipython",
    "version": 3
   },
   "file_extension": ".py",
   "mimetype": "text/x-python",
   "name": "python",
   "nbconvert_exporter": "python",
   "pygments_lexer": "ipython3",
   "version": "3.7.1"
  }
 },
 "nbformat": 4,
 "nbformat_minor": 4
}
