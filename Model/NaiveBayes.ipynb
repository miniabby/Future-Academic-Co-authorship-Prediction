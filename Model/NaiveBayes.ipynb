{
 "cells": [
  {
   "cell_type": "code",
   "execution_count": 1,
   "metadata": {},
   "outputs": [],
   "source": [
    "import pandas as pd\n",
    "import numpy as np\n",
    "\n",
    "from matplotlib import pyplot as plt\n",
    "from seaborn import heatmap, boxplot\n",
    "from statistics import mean\n",
    "from sklearn.model_selection import train_test_split\n",
    "from sklearn.model_selection import KFold\n",
    "from sklearn.naive_bayes import GaussianNB\n",
    "from imblearn.under_sampling import RandomUnderSampler\n",
    "from sklearn.metrics import roc_auc_score"
   ]
  },
  {
   "cell_type": "code",
   "execution_count": 2,
   "metadata": {},
   "outputs": [
    {
     "data": {
      "text/html": [
       "<div>\n",
       "<style scoped>\n",
       "    .dataframe tbody tr th:only-of-type {\n",
       "        vertical-align: middle;\n",
       "    }\n",
       "\n",
       "    .dataframe tbody tr th {\n",
       "        vertical-align: top;\n",
       "    }\n",
       "\n",
       "    .dataframe thead th {\n",
       "        text-align: right;\n",
       "    }\n",
       "</style>\n",
       "<table border=\"1\" class=\"dataframe\">\n",
       "  <thead>\n",
       "    <tr style=\"text-align: right;\">\n",
       "      <th></th>\n",
       "      <th>Pair</th>\n",
       "      <th>Source</th>\n",
       "      <th>Sink</th>\n",
       "      <th>NCA</th>\n",
       "      <th>Exist</th>\n",
       "      <th>CN</th>\n",
       "      <th>AA</th>\n",
       "      <th>RA</th>\n",
       "      <th>JC</th>\n",
       "      <th>PA</th>\n",
       "      <th>KI</th>\n",
       "      <th>PR_s1</th>\n",
       "      <th>PR_s2</th>\n",
       "    </tr>\n",
       "  </thead>\n",
       "  <tbody>\n",
       "    <tr>\n",
       "      <th>0</th>\n",
       "      <td>(0, 356)</td>\n",
       "      <td>0</td>\n",
       "      <td>356</td>\n",
       "      <td>14</td>\n",
       "      <td>1</td>\n",
       "      <td>7</td>\n",
       "      <td>2.899858</td>\n",
       "      <td>0.628968</td>\n",
       "      <td>0.700000</td>\n",
       "      <td>72</td>\n",
       "      <td>0.079962</td>\n",
       "      <td>0.00022</td>\n",
       "      <td>0.000240</td>\n",
       "    </tr>\n",
       "    <tr>\n",
       "      <th>1</th>\n",
       "      <td>(0, 1236)</td>\n",
       "      <td>0</td>\n",
       "      <td>1236</td>\n",
       "      <td>14</td>\n",
       "      <td>1</td>\n",
       "      <td>6</td>\n",
       "      <td>2.471649</td>\n",
       "      <td>0.531746</td>\n",
       "      <td>0.428571</td>\n",
       "      <td>96</td>\n",
       "      <td>0.075137</td>\n",
       "      <td>0.00022</td>\n",
       "      <td>0.000302</td>\n",
       "    </tr>\n",
       "    <tr>\n",
       "      <th>2</th>\n",
       "      <td>(356, 1236)</td>\n",
       "      <td>356</td>\n",
       "      <td>1236</td>\n",
       "      <td>14</td>\n",
       "      <td>1</td>\n",
       "      <td>7</td>\n",
       "      <td>2.812086</td>\n",
       "      <td>0.587302</td>\n",
       "      <td>0.500000</td>\n",
       "      <td>108</td>\n",
       "      <td>0.074232</td>\n",
       "      <td>0.00024</td>\n",
       "      <td>0.000302</td>\n",
       "    </tr>\n",
       "    <tr>\n",
       "      <th>3</th>\n",
       "      <td>(0, 1655)</td>\n",
       "      <td>0</td>\n",
       "      <td>1655</td>\n",
       "      <td>9</td>\n",
       "      <td>1</td>\n",
       "      <td>7</td>\n",
       "      <td>2.976054</td>\n",
       "      <td>0.668651</td>\n",
       "      <td>0.466667</td>\n",
       "      <td>112</td>\n",
       "      <td>0.083302</td>\n",
       "      <td>0.00022</td>\n",
       "      <td>0.000376</td>\n",
       "    </tr>\n",
       "    <tr>\n",
       "      <th>4</th>\n",
       "      <td>(0, 1797)</td>\n",
       "      <td>0</td>\n",
       "      <td>1797</td>\n",
       "      <td>4</td>\n",
       "      <td>1</td>\n",
       "      <td>7</td>\n",
       "      <td>2.899858</td>\n",
       "      <td>0.628968</td>\n",
       "      <td>0.700000</td>\n",
       "      <td>72</td>\n",
       "      <td>0.081045</td>\n",
       "      <td>0.00022</td>\n",
       "      <td>0.000245</td>\n",
       "    </tr>\n",
       "  </tbody>\n",
       "</table>\n",
       "</div>"
      ],
      "text/plain": [
       "          Pair  Source  Sink  NCA  Exist  CN        AA        RA        JC  \\\n",
       "0     (0, 356)       0   356   14      1   7  2.899858  0.628968  0.700000   \n",
       "1    (0, 1236)       0  1236   14      1   6  2.471649  0.531746  0.428571   \n",
       "2  (356, 1236)     356  1236   14      1   7  2.812086  0.587302  0.500000   \n",
       "3    (0, 1655)       0  1655    9      1   7  2.976054  0.668651  0.466667   \n",
       "4    (0, 1797)       0  1797    4      1   7  2.899858  0.628968  0.700000   \n",
       "\n",
       "    PA        KI    PR_s1     PR_s2  \n",
       "0   72  0.079962  0.00022  0.000240  \n",
       "1   96  0.075137  0.00022  0.000302  \n",
       "2  108  0.074232  0.00024  0.000302  \n",
       "3  112  0.083302  0.00022  0.000376  \n",
       "4   72  0.081045  0.00022  0.000245  "
      ]
     },
     "execution_count": 2,
     "metadata": {},
     "output_type": "execute_result"
    }
   ],
   "source": [
    "train = pd.read_csv(\"train.csv\")\n",
    "train.head()"
   ]
  },
  {
   "cell_type": "code",
   "execution_count": 3,
   "metadata": {},
   "outputs": [
    {
     "data": {
      "text/html": [
       "<div>\n",
       "<style scoped>\n",
       "    .dataframe tbody tr th:only-of-type {\n",
       "        vertical-align: middle;\n",
       "    }\n",
       "\n",
       "    .dataframe tbody tr th {\n",
       "        vertical-align: top;\n",
       "    }\n",
       "\n",
       "    .dataframe thead th {\n",
       "        text-align: right;\n",
       "    }\n",
       "</style>\n",
       "<table border=\"1\" class=\"dataframe\">\n",
       "  <thead>\n",
       "    <tr style=\"text-align: right;\">\n",
       "      <th></th>\n",
       "      <th>Source</th>\n",
       "      <th>Sink</th>\n",
       "      <th>NCA</th>\n",
       "      <th>Exist</th>\n",
       "      <th>CN</th>\n",
       "      <th>AA</th>\n",
       "      <th>RA</th>\n",
       "      <th>JC</th>\n",
       "      <th>PA</th>\n",
       "      <th>KI</th>\n",
       "      <th>PR_s1</th>\n",
       "      <th>PR_s2</th>\n",
       "    </tr>\n",
       "  </thead>\n",
       "  <tbody>\n",
       "    <tr>\n",
       "      <th>count</th>\n",
       "      <td>7.093261e+06</td>\n",
       "      <td>7.093261e+06</td>\n",
       "      <td>7.093261e+06</td>\n",
       "      <td>7.093261e+06</td>\n",
       "      <td>7.093261e+06</td>\n",
       "      <td>7.093261e+06</td>\n",
       "      <td>7.093261e+06</td>\n",
       "      <td>7.093261e+06</td>\n",
       "      <td>7.093261e+06</td>\n",
       "      <td>7.093261e+06</td>\n",
       "      <td>7.093261e+06</td>\n",
       "      <td>7.093261e+06</td>\n",
       "    </tr>\n",
       "    <tr>\n",
       "      <th>mean</th>\n",
       "      <td>1.358516e+03</td>\n",
       "      <td>2.726671e+03</td>\n",
       "      <td>4.175513e-03</td>\n",
       "      <td>2.260455e-03</td>\n",
       "      <td>6.283936e-02</td>\n",
       "      <td>1.746867e-02</td>\n",
       "      <td>1.994752e-03</td>\n",
       "      <td>1.724225e-03</td>\n",
       "      <td>7.244126e+01</td>\n",
       "      <td>-4.678390e-03</td>\n",
       "      <td>2.647789e-04</td>\n",
       "      <td>2.661476e-04</td>\n",
       "    </tr>\n",
       "    <tr>\n",
       "      <th>std</th>\n",
       "      <td>9.681305e+02</td>\n",
       "      <td>9.659946e+02</td>\n",
       "      <td>1.353742e-01</td>\n",
       "      <td>4.749048e-02</td>\n",
       "      <td>8.134852e-01</td>\n",
       "      <td>2.120263e-01</td>\n",
       "      <td>2.460626e-02</td>\n",
       "      <td>1.836146e-02</td>\n",
       "      <td>2.336852e+02</td>\n",
       "      <td>1.378946e-01</td>\n",
       "      <td>2.459210e-04</td>\n",
       "      <td>2.562868e-04</td>\n",
       "    </tr>\n",
       "    <tr>\n",
       "      <th>min</th>\n",
       "      <td>0.000000e+00</td>\n",
       "      <td>1.000000e+00</td>\n",
       "      <td>0.000000e+00</td>\n",
       "      <td>0.000000e+00</td>\n",
       "      <td>0.000000e+00</td>\n",
       "      <td>0.000000e+00</td>\n",
       "      <td>0.000000e+00</td>\n",
       "      <td>0.000000e+00</td>\n",
       "      <td>1.000000e+00</td>\n",
       "      <td>-3.260378e+01</td>\n",
       "      <td>5.446268e-05</td>\n",
       "      <td>5.446268e-05</td>\n",
       "    </tr>\n",
       "    <tr>\n",
       "      <th>25%</th>\n",
       "      <td>5.380000e+02</td>\n",
       "      <td>2.046000e+03</td>\n",
       "      <td>0.000000e+00</td>\n",
       "      <td>0.000000e+00</td>\n",
       "      <td>0.000000e+00</td>\n",
       "      <td>0.000000e+00</td>\n",
       "      <td>0.000000e+00</td>\n",
       "      <td>0.000000e+00</td>\n",
       "      <td>6.000000e+00</td>\n",
       "      <td>-6.086542e-04</td>\n",
       "      <td>1.226357e-04</td>\n",
       "      <td>1.212101e-04</td>\n",
       "    </tr>\n",
       "    <tr>\n",
       "      <th>50%</th>\n",
       "      <td>1.185000e+03</td>\n",
       "      <td>2.898000e+03</td>\n",
       "      <td>0.000000e+00</td>\n",
       "      <td>0.000000e+00</td>\n",
       "      <td>0.000000e+00</td>\n",
       "      <td>0.000000e+00</td>\n",
       "      <td>0.000000e+00</td>\n",
       "      <td>0.000000e+00</td>\n",
       "      <td>1.800000e+01</td>\n",
       "      <td>0.000000e+00</td>\n",
       "      <td>2.021789e-04</td>\n",
       "      <td>1.973010e-04</td>\n",
       "    </tr>\n",
       "    <tr>\n",
       "      <th>75%</th>\n",
       "      <td>2.046000e+03</td>\n",
       "      <td>3.544000e+03</td>\n",
       "      <td>0.000000e+00</td>\n",
       "      <td>0.000000e+00</td>\n",
       "      <td>0.000000e+00</td>\n",
       "      <td>0.000000e+00</td>\n",
       "      <td>0.000000e+00</td>\n",
       "      <td>0.000000e+00</td>\n",
       "      <td>5.400000e+01</td>\n",
       "      <td>2.237487e-05</td>\n",
       "      <td>2.886669e-04</td>\n",
       "      <td>2.869258e-04</td>\n",
       "    </tr>\n",
       "    <tr>\n",
       "      <th>max</th>\n",
       "      <td>4.091000e+03</td>\n",
       "      <td>4.092000e+03</td>\n",
       "      <td>4.500000e+01</td>\n",
       "      <td>1.000000e+00</td>\n",
       "      <td>7.600000e+01</td>\n",
       "      <td>1.826438e+01</td>\n",
       "      <td>3.391595e+00</td>\n",
       "      <td>1.000000e+00</td>\n",
       "      <td>1.463700e+04</td>\n",
       "      <td>8.152353e+00</td>\n",
       "      <td>2.531835e-03</td>\n",
       "      <td>2.531835e-03</td>\n",
       "    </tr>\n",
       "  </tbody>\n",
       "</table>\n",
       "</div>"
      ],
      "text/plain": [
       "             Source          Sink           NCA         Exist            CN  \\\n",
       "count  7.093261e+06  7.093261e+06  7.093261e+06  7.093261e+06  7.093261e+06   \n",
       "mean   1.358516e+03  2.726671e+03  4.175513e-03  2.260455e-03  6.283936e-02   \n",
       "std    9.681305e+02  9.659946e+02  1.353742e-01  4.749048e-02  8.134852e-01   \n",
       "min    0.000000e+00  1.000000e+00  0.000000e+00  0.000000e+00  0.000000e+00   \n",
       "25%    5.380000e+02  2.046000e+03  0.000000e+00  0.000000e+00  0.000000e+00   \n",
       "50%    1.185000e+03  2.898000e+03  0.000000e+00  0.000000e+00  0.000000e+00   \n",
       "75%    2.046000e+03  3.544000e+03  0.000000e+00  0.000000e+00  0.000000e+00   \n",
       "max    4.091000e+03  4.092000e+03  4.500000e+01  1.000000e+00  7.600000e+01   \n",
       "\n",
       "                 AA            RA            JC            PA            KI  \\\n",
       "count  7.093261e+06  7.093261e+06  7.093261e+06  7.093261e+06  7.093261e+06   \n",
       "mean   1.746867e-02  1.994752e-03  1.724225e-03  7.244126e+01 -4.678390e-03   \n",
       "std    2.120263e-01  2.460626e-02  1.836146e-02  2.336852e+02  1.378946e-01   \n",
       "min    0.000000e+00  0.000000e+00  0.000000e+00  1.000000e+00 -3.260378e+01   \n",
       "25%    0.000000e+00  0.000000e+00  0.000000e+00  6.000000e+00 -6.086542e-04   \n",
       "50%    0.000000e+00  0.000000e+00  0.000000e+00  1.800000e+01  0.000000e+00   \n",
       "75%    0.000000e+00  0.000000e+00  0.000000e+00  5.400000e+01  2.237487e-05   \n",
       "max    1.826438e+01  3.391595e+00  1.000000e+00  1.463700e+04  8.152353e+00   \n",
       "\n",
       "              PR_s1         PR_s2  \n",
       "count  7.093261e+06  7.093261e+06  \n",
       "mean   2.647789e-04  2.661476e-04  \n",
       "std    2.459210e-04  2.562868e-04  \n",
       "min    5.446268e-05  5.446268e-05  \n",
       "25%    1.226357e-04  1.212101e-04  \n",
       "50%    2.021789e-04  1.973010e-04  \n",
       "75%    2.886669e-04  2.869258e-04  \n",
       "max    2.531835e-03  2.531835e-03  "
      ]
     },
     "execution_count": 3,
     "metadata": {},
     "output_type": "execute_result"
    }
   ],
   "source": [
    "train.describe()"
   ]
  },
  {
   "cell_type": "code",
   "execution_count": 4,
   "metadata": {},
   "outputs": [],
   "source": [
    "X = train[['NCA', 'CN', 'AA', 'RA', 'JC', 'PA', 'KI', 'PR_s1', 'PR_s2']]\n",
    "y = train['Exist']"
   ]
  },
  {
   "cell_type": "code",
   "execution_count": 5,
   "metadata": {},
   "outputs": [
    {
     "data": {
      "text/plain": [
       "<matplotlib.axes._subplots.AxesSubplot at 0x7fdfcbd0ec10>"
      ]
     },
     "execution_count": 5,
     "metadata": {},
     "output_type": "execute_result"
    },
    {
     "data": {
      "image/png": "[encoded data removed]",
      "text/plain": [
       "<Figure size 576x432 with 2 Axes>"
      ]
     },
     "metadata": {
      "needs_background": "light"
     },
     "output_type": "display_data"
    }
   ],
   "source": [
    "# correlation plot\n",
    "corr_X = X.corr()\n",
    "plt.figure(figsize=(8, 6))\n",
    "heatmap(corr_X, cmap=\"YlGnBu\")"
   ]
  },
  {
   "cell_type": "code",
   "execution_count": 6,
   "metadata": {},
   "outputs": [
    {
     "data": {
      "text/plain": [
       "<matplotlib.axes._subplots.AxesSubplot at 0x7fdea2713c90>"
      ]
     },
     "execution_count": 6,
     "metadata": {},
     "output_type": "execute_result"
    },
    {
     "data": {
      "image/png": "[encoded data removed]",
      "text/plain": [
       "<Figure size 432x288 with 1 Axes>"
      ]
     },
     "metadata": {
      "needs_background": "light"
     },
     "output_type": "display_data"
    }
   ],
   "source": [
    "# boxplot of NCA\n",
    "boxplot(x=\"Exist\", y=\"NCA\", data=train[train[\"NCA\"] < 8])"
   ]
  },
  {
   "cell_type": "code",
   "execution_count": 7,
   "metadata": {},
   "outputs": [
    {
     "data": {
      "text/plain": [
       "<matplotlib.axes._subplots.AxesSubplot at 0x7fdea24d5f50>"
      ]
     },
     "execution_count": 7,
     "metadata": {},
     "output_type": "execute_result"
    },
    {
     "data": {
      "image/png": "[encoded data removed]",
      "text/plain": [
       "<Figure size 432x288 with 1 Axes>"
      ]
     },
     "metadata": {
      "needs_background": "light"
     },
     "output_type": "display_data"
    }
   ],
   "source": [
    "# boxplot of CN\n",
    "boxplot(x=\"Exist\", y=\"CN\", data=train)"
   ]
  },
  {
   "cell_type": "code",
   "execution_count": 8,
   "metadata": {},
   "outputs": [
    {
     "data": {
      "text/plain": [
       "<matplotlib.axes._subplots.AxesSubplot at 0x7fdea962fa10>"
      ]
     },
     "execution_count": 8,
     "metadata": {},
     "output_type": "execute_result"
    },
    {
     "data": {
      "image/png": "[encoded data removed]",
      "text/plain": [
       "<Figure size 432x288 with 1 Axes>"
      ]
     },
     "metadata": {
      "needs_background": "light"
     },
     "output_type": "display_data"
    }
   ],
   "source": [
    "# boxplot of AA\n",
    "boxplot(x=\"Exist\", y=\"AA\", data=train)"
   ]
  },
  {
   "cell_type": "code",
   "execution_count": 9,
   "metadata": {},
   "outputs": [
    {
     "data": {
      "text/plain": [
       "<matplotlib.axes._subplots.AxesSubplot at 0x7fdea8e8a390>"
      ]
     },
     "execution_count": 9,
     "metadata": {},
     "output_type": "execute_result"
    },
    {
     "data": {
      "image/png": "[encoded data removed]",
      "text/plain": [
       "<Figure size 432x288 with 1 Axes>"
      ]
     },
     "metadata": {
      "needs_background": "light"
     },
     "output_type": "display_data"
    }
   ],
   "source": [
    "# boxplot of RA\n",
    "boxplot(x=\"Exist\", y=\"RA\", data=train)"
   ]
  },
  {
   "cell_type": "code",
   "execution_count": 10,
   "metadata": {},
   "outputs": [
    {
     "data": {
      "text/plain": [
       "<matplotlib.axes._subplots.AxesSubplot at 0x7fdea6f55250>"
      ]
     },
     "execution_count": 10,
     "metadata": {},
     "output_type": "execute_result"
    },
    {
     "data": {
      "image/png": "[encoded data removed]",
      "text/plain": [
       "<Figure size 432x288 with 1 Axes>"
      ]
     },
     "metadata": {
      "needs_background": "light"
     },
     "output_type": "display_data"
    }
   ],
   "source": [
    "# boxplot of JC\n",
    "boxplot(x=\"Exist\", y=\"JC\", data=train)"
   ]
  },
  {
   "cell_type": "code",
   "execution_count": 11,
   "metadata": {},
   "outputs": [
    {
     "data": {
      "text/plain": [
       "<matplotlib.axes._subplots.AxesSubplot at 0x7fdea8e8a0d0>"
      ]
     },
     "execution_count": 11,
     "metadata": {},
     "output_type": "execute_result"
    },
    {
     "data": {
      "image/png": "[encoded data removed]",
      "text/plain": [
       "<Figure size 432x288 with 1 Axes>"
      ]
     },
     "metadata": {
      "needs_background": "light"
     },
     "output_type": "display_data"
    }
   ],
   "source": [
    "# boxplot of PA\n",
    "boxplot(x=\"Exist\", y=\"PA\", data=train)"
   ]
  },
  {
   "cell_type": "code",
   "execution_count": 12,
   "metadata": {},
   "outputs": [
    {
     "name": "stderr",
     "output_type": "stream",
     "text": [
      "/opt/anaconda3/lib/python3.7/site-packages/ipykernel_launcher.py:2: UserWarning: Boolean Series key will be reindexed to match DataFrame index.\n",
      "  \n"
     ]
    },
    {
     "data": {
      "text/plain": [
       "<matplotlib.axes._subplots.AxesSubplot at 0x7fdea27023d0>"
      ]
     },
     "execution_count": 12,
     "metadata": {},
     "output_type": "execute_result"
    },
    {
     "data": {
      "image/png": "[encoded data removed]",
      "text/plain": [
       "<Figure size 432x288 with 1 Axes>"
      ]
     },
     "metadata": {
      "needs_background": "light"
     },
     "output_type": "display_data"
    }
   ],
   "source": [
    "# boxplot of KI\n",
    "boxplot(x=\"Exist\", y=\"KI\", data=train[train['KI']>-1][train['KI']<1])"
   ]
  },
  {
   "cell_type": "code",
   "execution_count": 13,
   "metadata": {},
   "outputs": [],
   "source": [
    "# balance the dataset by undersampling\n",
    "rus = RandomUnderSampler(sampling_strategy=\"majority\")\n",
    "X, y= rus.fit_resample(X, y)"
   ]
  },
  {
   "cell_type": "code",
   "execution_count": 14,
   "metadata": {},
   "outputs": [
    {
     "data": {
      "text/plain": [
       "0    16034\n",
       "1    16034\n",
       "Name: Exist, dtype: int64"
      ]
     },
     "execution_count": 14,
     "metadata": {},
     "output_type": "execute_result"
    }
   ],
   "source": [
    "y.value_counts()"
   ]
  },
  {
   "cell_type": "code",
   "execution_count": 15,
   "metadata": {},
   "outputs": [],
   "source": [
    "# perform 5 fold cross validation\n",
    "n_splits=5\n",
    "kf = KFold(n_splits=n_splits, shuffle=True)\n",
    "\n",
    "gnb = GaussianNB()\n",
    "auc = []\n",
    "for train_index, test_index in kf.split(X):\n",
    "    # split the train data and test data\n",
    "    X_train, X_test = X.iloc[train_index,:], X.iloc[test_index,:]\n",
    "    y_train, y_test = y[train_index], y[test_index]\n",
    "    \n",
    "    y_pred = gnb.fit(X_train, y_train).predict_proba(X_test)\n",
    "    auc.append(roc_auc_score(y_test, y_pred[:,1]))"
   ]
  },
  {
   "cell_type": "code",
   "execution_count": 16,
   "metadata": {},
   "outputs": [
    {
     "data": {
      "text/plain": [
       "array([[1.00000000e+000, 3.58121065e-010],\n",
       "       [1.00000000e+000, 3.54298796e-010],\n",
       "       [1.00000000e+000, 3.56187971e-010],\n",
       "       ...,\n",
       "       [4.26775461e-094, 1.00000000e+000],\n",
       "       [0.00000000e+000, 1.00000000e+000],\n",
       "       [1.68479977e-105, 1.00000000e+000]])"
      ]
     },
     "execution_count": 16,
     "metadata": {},
     "output_type": "execute_result"
    }
   ],
   "source": [
    "y_pred"
   ]
  },
  {
   "cell_type": "code",
   "execution_count": 17,
   "metadata": {},
   "outputs": [
    {
     "name": "stdout",
     "output_type": "stream",
     "text": [
      "The average AUC is: 0.9971651881457149\n"
     ]
    }
   ],
   "source": [
    "print(\"The average AUC is:\", mean(auc))"
   ]
  },
  {
   "cell_type": "code",
   "execution_count": null,
   "metadata": {},
   "outputs": [],
   "source": []
  }
 ],
 "metadata": {
  "kernelspec": {
   "display_name": "Python 3",
   "language": "python",
   "name": "python3"
  },
  "language_info": {
   "codemirror_mode": {
    "name": "ipython",
    "version": 3
   },
   "file_extension": ".py",
   "mimetype": "text/x-python",
   "name": "python",
   "nbconvert_exporter": "python",
   "pygments_lexer": "ipython3",
   "version": "3.7.1"
  }
 },
 "nbformat": 4,
 "nbformat_minor": 4
}
