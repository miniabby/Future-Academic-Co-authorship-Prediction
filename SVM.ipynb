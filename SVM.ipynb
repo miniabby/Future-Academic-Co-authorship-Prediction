{
 "cells": [
  {
   "cell_type": "code",
   "execution_count": 42,
   "metadata": {},
   "outputs": [],
   "source": [
    "import pandas as pd\n",
    "from statistics import mean\n",
    "from sklearn.model_selection import train_test_split\n",
    "from sklearn.model_selection import StratifiedShuffleSplit\n",
    "from sklearn.model_selection import KFold\n",
    "\n",
    "from imblearn.under_sampling import RandomUnderSampler\n",
    "\n",
    "from sklearn import svm\n",
    "\n",
    "from sklearn.metrics import roc_auc_score\n",
    "\n",
    "from mlxtend.feature_selection import SequentialFeatureSelector as SFS"
   ]
  },
  {
   "cell_type": "code",
   "execution_count": 43,
   "metadata": {},
   "outputs": [
    {
     "data": {
      "text/html": [
       "<div>\n",
       "<style scoped>\n",
       "    .dataframe tbody tr th:only-of-type {\n",
       "        vertical-align: middle;\n",
       "    }\n",
       "\n",
       "    .dataframe tbody tr th {\n",
       "        vertical-align: top;\n",
       "    }\n",
       "\n",
       "    .dataframe thead th {\n",
       "        text-align: right;\n",
       "    }\n",
       "</style>\n",
       "<table border=\"1\" class=\"dataframe\">\n",
       "  <thead>\n",
       "    <tr style=\"text-align: right;\">\n",
       "      <th></th>\n",
       "      <th>Pair</th>\n",
       "      <th>Source</th>\n",
       "      <th>Sink</th>\n",
       "      <th>NCA</th>\n",
       "      <th>Exist</th>\n",
       "      <th>CN</th>\n",
       "      <th>AA</th>\n",
       "      <th>RA</th>\n",
       "      <th>JC</th>\n",
       "      <th>PA</th>\n",
       "      <th>...</th>\n",
       "      <th>n2v_11</th>\n",
       "      <th>n2v_12</th>\n",
       "      <th>n2v_13</th>\n",
       "      <th>n2v_14</th>\n",
       "      <th>n2v_15</th>\n",
       "      <th>n2v_16</th>\n",
       "      <th>n2v_17</th>\n",
       "      <th>n2v_18</th>\n",
       "      <th>n2v_19</th>\n",
       "      <th>n2v_20</th>\n",
       "    </tr>\n",
       "  </thead>\n",
       "  <tbody>\n",
       "    <tr>\n",
       "      <th>0</th>\n",
       "      <td>(0, 356)</td>\n",
       "      <td>0</td>\n",
       "      <td>356</td>\n",
       "      <td>14</td>\n",
       "      <td>1</td>\n",
       "      <td>7</td>\n",
       "      <td>2.899858</td>\n",
       "      <td>0.628968</td>\n",
       "      <td>0.700000</td>\n",
       "      <td>72</td>\n",
       "      <td>...</td>\n",
       "      <td>-0.496998</td>\n",
       "      <td>-1.134546</td>\n",
       "      <td>0.007980</td>\n",
       "      <td>0.987995</td>\n",
       "      <td>0.972931</td>\n",
       "      <td>0.094051</td>\n",
       "      <td>-0.802513</td>\n",
       "      <td>-0.525578</td>\n",
       "      <td>-0.045362</td>\n",
       "      <td>-0.167199</td>\n",
       "    </tr>\n",
       "    <tr>\n",
       "      <th>1</th>\n",
       "      <td>(0, 1236)</td>\n",
       "      <td>0</td>\n",
       "      <td>1236</td>\n",
       "      <td>14</td>\n",
       "      <td>1</td>\n",
       "      <td>6</td>\n",
       "      <td>2.471649</td>\n",
       "      <td>0.531746</td>\n",
       "      <td>0.428571</td>\n",
       "      <td>96</td>\n",
       "      <td>...</td>\n",
       "      <td>-0.416841</td>\n",
       "      <td>-1.014621</td>\n",
       "      <td>-0.016673</td>\n",
       "      <td>1.101111</td>\n",
       "      <td>0.970056</td>\n",
       "      <td>-0.027354</td>\n",
       "      <td>-0.736977</td>\n",
       "      <td>-0.429805</td>\n",
       "      <td>-0.006636</td>\n",
       "      <td>-0.157095</td>\n",
       "    </tr>\n",
       "    <tr>\n",
       "      <th>2</th>\n",
       "      <td>(356, 1236)</td>\n",
       "      <td>356</td>\n",
       "      <td>1236</td>\n",
       "      <td>14</td>\n",
       "      <td>1</td>\n",
       "      <td>7</td>\n",
       "      <td>2.812086</td>\n",
       "      <td>0.587302</td>\n",
       "      <td>0.500000</td>\n",
       "      <td>108</td>\n",
       "      <td>...</td>\n",
       "      <td>-0.381170</td>\n",
       "      <td>-1.030291</td>\n",
       "      <td>0.043748</td>\n",
       "      <td>1.104780</td>\n",
       "      <td>0.930035</td>\n",
       "      <td>-0.076307</td>\n",
       "      <td>-0.804798</td>\n",
       "      <td>-0.361534</td>\n",
       "      <td>0.007620</td>\n",
       "      <td>-0.119622</td>\n",
       "    </tr>\n",
       "    <tr>\n",
       "      <th>3</th>\n",
       "      <td>(0, 1655)</td>\n",
       "      <td>0</td>\n",
       "      <td>1655</td>\n",
       "      <td>9</td>\n",
       "      <td>1</td>\n",
       "      <td>7</td>\n",
       "      <td>2.976054</td>\n",
       "      <td>0.668651</td>\n",
       "      <td>0.466667</td>\n",
       "      <td>112</td>\n",
       "      <td>...</td>\n",
       "      <td>-0.502501</td>\n",
       "      <td>-0.887524</td>\n",
       "      <td>-0.000751</td>\n",
       "      <td>0.692170</td>\n",
       "      <td>0.940910</td>\n",
       "      <td>0.338876</td>\n",
       "      <td>-0.834912</td>\n",
       "      <td>-0.660168</td>\n",
       "      <td>-0.042238</td>\n",
       "      <td>-0.252496</td>\n",
       "    </tr>\n",
       "    <tr>\n",
       "      <th>4</th>\n",
       "      <td>(0, 1797)</td>\n",
       "      <td>0</td>\n",
       "      <td>1797</td>\n",
       "      <td>4</td>\n",
       "      <td>1</td>\n",
       "      <td>7</td>\n",
       "      <td>2.899858</td>\n",
       "      <td>0.628968</td>\n",
       "      <td>0.700000</td>\n",
       "      <td>72</td>\n",
       "      <td>...</td>\n",
       "      <td>-0.535481</td>\n",
       "      <td>-1.112927</td>\n",
       "      <td>-0.095884</td>\n",
       "      <td>0.932938</td>\n",
       "      <td>0.996588</td>\n",
       "      <td>0.147873</td>\n",
       "      <td>-0.821845</td>\n",
       "      <td>-0.635077</td>\n",
       "      <td>-0.034613</td>\n",
       "      <td>-0.177429</td>\n",
       "    </tr>\n",
       "  </tbody>\n",
       "</table>\n",
       "<p>5 rows × 33 columns</p>\n",
       "</div>"
      ],
      "text/plain": [
       "          Pair  Source  Sink  NCA  Exist  CN        AA        RA        JC  \\\n",
       "0     (0, 356)       0   356   14      1   7  2.899858  0.628968  0.700000   \n",
       "1    (0, 1236)       0  1236   14      1   6  2.471649  0.531746  0.428571   \n",
       "2  (356, 1236)     356  1236   14      1   7  2.812086  0.587302  0.500000   \n",
       "3    (0, 1655)       0  1655    9      1   7  2.976054  0.668651  0.466667   \n",
       "4    (0, 1797)       0  1797    4      1   7  2.899858  0.628968  0.700000   \n",
       "\n",
       "    PA  ...    n2v_11    n2v_12    n2v_13    n2v_14    n2v_15    n2v_16  \\\n",
       "0   72  ... -0.496998 -1.134546  0.007980  0.987995  0.972931  0.094051   \n",
       "1   96  ... -0.416841 -1.014621 -0.016673  1.101111  0.970056 -0.027354   \n",
       "2  108  ... -0.381170 -1.030291  0.043748  1.104780  0.930035 -0.076307   \n",
       "3  112  ... -0.502501 -0.887524 -0.000751  0.692170  0.940910  0.338876   \n",
       "4   72  ... -0.535481 -1.112927 -0.095884  0.932938  0.996588  0.147873   \n",
       "\n",
       "     n2v_17    n2v_18    n2v_19    n2v_20  \n",
       "0 -0.802513 -0.525578 -0.045362 -0.167199  \n",
       "1 -0.736977 -0.429805 -0.006636 -0.157095  \n",
       "2 -0.804798 -0.361534  0.007620 -0.119622  \n",
       "3 -0.834912 -0.660168 -0.042238 -0.252496  \n",
       "4 -0.821845 -0.635077 -0.034613 -0.177429  \n",
       "\n",
       "[5 rows x 33 columns]"
      ]
     },
     "execution_count": 43,
     "metadata": {},
     "output_type": "execute_result"
    }
   ],
   "source": [
    "train = pd.read_csv(\"train.csv\")\n",
    "train.head()"
   ]
  },
  {
   "cell_type": "markdown",
   "metadata": {},
   "source": [
    "## Similarity based Features"
   ]
  },
  {
   "cell_type": "code",
   "execution_count": 44,
   "metadata": {},
   "outputs": [],
   "source": [
    "sbF = ['NCA', 'CN', 'AA', 'RA', 'JC', 'PA', 'KI', 'PR_s1', 'PR_s2']\n",
    "X = train[sbF]\n",
    "y = train['Exist']"
   ]
  },
  {
   "cell_type": "code",
   "execution_count": 45,
   "metadata": {},
   "outputs": [],
   "source": [
    "# balance the dataset by undersampling\n",
    "rus = RandomUnderSampler(sampling_strategy=\"majority\")\n",
    "X, y= rus.fit_resample(X, y)"
   ]
  },
  {
   "cell_type": "code",
   "execution_count": 46,
   "metadata": {},
   "outputs": [
    {
     "data": {
      "text/plain": [
       "0    16036\n",
       "1    16036\n",
       "Name: Exist, dtype: int64"
      ]
     },
     "execution_count": 46,
     "metadata": {},
     "output_type": "execute_result"
    }
   ],
   "source": [
    "y.value_counts()"
   ]
  },
  {
   "cell_type": "code",
   "execution_count": 34,
   "metadata": {},
   "outputs": [],
   "source": [
    "# perform 5 fold cross validation\n",
    "n_splits=5\n",
    "sss = StratifiedShuffleSplit(n_splits=n_splits, random_state=0)\n",
    "\n",
    "clf = svm.SVC(probability=True, max_iter=20000)\n",
    "auc = []\n",
    "for train_index, test_index in sss.split(X, y):\n",
    "    # split the train data and test data\n",
    "    X_train, X_test = X.iloc[train_index,:], X.iloc[test_index,:]\n",
    "    y_train, y_test = y[train_index], y[test_index]\n",
    "    \n",
    "    y_pred = clf.fit(X_train, y_train).predict_proba(X_test)\n",
    "    auc.append(roc_auc_score(y_test, y_pred[:,1]))"
   ]
  },
  {
   "cell_type": "code",
   "execution_count": 35,
   "metadata": {},
   "outputs": [
    {
     "data": {
      "text/plain": [
       "array([[0.74709956, 0.25290044],\n",
       "       [0.80173427, 0.19826573],\n",
       "       [0.11428419, 0.88571581],\n",
       "       ...,\n",
       "       [0.51375145, 0.48624855],\n",
       "       [0.08688966, 0.91311034],\n",
       "       [0.40715006, 0.59284994]])"
      ]
     },
     "execution_count": 35,
     "metadata": {},
     "output_type": "execute_result"
    }
   ],
   "source": [
    "y_pred"
   ]
  },
  {
   "cell_type": "code",
   "execution_count": 36,
   "metadata": {},
   "outputs": [
    {
     "name": "stdout",
     "output_type": "stream",
     "text": [
      "The average AUC is: 0.8562133864217263\n"
     ]
    }
   ],
   "source": [
    "print(\"The average AUC is:\", mean(auc))"
   ]
  },
  {
   "cell_type": "markdown",
   "metadata": {},
   "source": [
    "## Node2Vec Features"
   ]
  },
  {
   "cell_type": "code",
   "execution_count": 47,
   "metadata": {},
   "outputs": [
    {
     "data": {
      "text/plain": [
       "0    16036\n",
       "1    16036\n",
       "Name: Exist, dtype: int64"
      ]
     },
     "execution_count": 47,
     "metadata": {},
     "output_type": "execute_result"
    }
   ],
   "source": [
    "d=20\n",
    "n2vF = [\"n2v_\"+str(i+1) for i in range(d)]\n",
    "X = train[n2vF]\n",
    "y = train['Exist']\n",
    "\n",
    "# balance the dataset by undersampling\n",
    "rus = RandomUnderSampler(sampling_strategy=\"majority\")\n",
    "X, y= rus.fit_resample(X, y)\n",
    "\n",
    "y.value_counts()"
   ]
  },
  {
   "cell_type": "code",
   "execution_count": 48,
   "metadata": {},
   "outputs": [],
   "source": [
    "# Fitting a model with all Node2Vec features\n",
    "n_splits=3\n",
    "sss = StratifiedShuffleSplit(n_splits=n_splits, random_state=0)\n",
    "\n",
    "clf = svm.SVC(probability=True, max_iter=20000)\n",
    "auc = []\n",
    "for train_index, test_index in sss.split(X, y):\n",
    "    # split the train data and test data\n",
    "    X_train, X_test = X.iloc[train_index,:], X.iloc[test_index,:]\n",
    "    y_train, y_test = y[train_index], y[test_index]\n",
    "    \n",
    "    y_pred = clf.fit(X_train, y_train).predict_proba(X_test)\n",
    "    auc.append(roc_auc_score(y_test, y_pred[:,1]))"
   ]
  },
  {
   "cell_type": "code",
   "execution_count": 49,
   "metadata": {},
   "outputs": [
    {
     "data": {
      "text/plain": [
       "array([[9.99999672e-01, 3.28326624e-07],\n",
       "       [3.62779907e-07, 9.99999637e-01],\n",
       "       [9.99999900e-01, 1.00000010e-07],\n",
       "       ...,\n",
       "       [3.88199098e-08, 9.99999961e-01],\n",
       "       [9.99999900e-01, 1.00000010e-07],\n",
       "       [1.33994639e-05, 9.99986601e-01]])"
      ]
     },
     "execution_count": 49,
     "metadata": {},
     "output_type": "execute_result"
    }
   ],
   "source": [
    "y_pred"
   ]
  },
  {
   "cell_type": "code",
   "execution_count": 50,
   "metadata": {},
   "outputs": [
    {
     "name": "stdout",
     "output_type": "stream",
     "text": [
      "The average AUC is: 0.9985653851655152\n"
     ]
    }
   ],
   "source": [
    "print(\"The average AUC is:\", mean(auc))"
   ]
  },
  {
   "cell_type": "markdown",
   "metadata": {},
   "source": [
    "## Prediction on test-public"
   ]
  },
  {
   "cell_type": "code",
   "execution_count": 53,
   "metadata": {},
   "outputs": [
    {
     "data": {
      "text/plain": [
       "array([1.04126208e-02, 1.00000010e-07, 1.00000010e-07, ...,\n",
       "       5.35222658e-05, 9.99997160e-01, 1.00000010e-07])"
      ]
     },
     "execution_count": 53,
     "metadata": {},
     "output_type": "execute_result"
    }
   ],
   "source": [
    "# with Node2Vec Features\n",
    "test = pd.read_csv(\"test.csv\", index_col = 'Id')\n",
    "X_test = test[n2vF]\n",
    "y_pred = clf.fit(X, y).predict_proba(X_test)\n",
    "y_pred[:,1]"
   ]
  },
  {
   "cell_type": "code",
   "execution_count": 54,
   "metadata": {},
   "outputs": [
    {
     "data": {
      "text/html": [
       "<div>\n",
       "<style scoped>\n",
       "    .dataframe tbody tr th:only-of-type {\n",
       "        vertical-align: middle;\n",
       "    }\n",
       "\n",
       "    .dataframe tbody tr th {\n",
       "        vertical-align: top;\n",
       "    }\n",
       "\n",
       "    .dataframe thead th {\n",
       "        text-align: right;\n",
       "    }\n",
       "</style>\n",
       "<table border=\"1\" class=\"dataframe\">\n",
       "  <thead>\n",
       "    <tr style=\"text-align: right;\">\n",
       "      <th></th>\n",
       "      <th>Source</th>\n",
       "      <th>Sink</th>\n",
       "      <th>Pair</th>\n",
       "      <th>CN</th>\n",
       "      <th>AA</th>\n",
       "      <th>RA</th>\n",
       "      <th>JC</th>\n",
       "      <th>PA</th>\n",
       "      <th>KI</th>\n",
       "      <th>PR_s1</th>\n",
       "      <th>...</th>\n",
       "      <th>n2v_12</th>\n",
       "      <th>n2v_13</th>\n",
       "      <th>n2v_14</th>\n",
       "      <th>n2v_15</th>\n",
       "      <th>n2v_16</th>\n",
       "      <th>n2v_17</th>\n",
       "      <th>n2v_18</th>\n",
       "      <th>n2v_19</th>\n",
       "      <th>n2v_20</th>\n",
       "      <th>Predicted</th>\n",
       "    </tr>\n",
       "    <tr>\n",
       "      <th>Id</th>\n",
       "      <th></th>\n",
       "      <th></th>\n",
       "      <th></th>\n",
       "      <th></th>\n",
       "      <th></th>\n",
       "      <th></th>\n",
       "      <th></th>\n",
       "      <th></th>\n",
       "      <th></th>\n",
       "      <th></th>\n",
       "      <th></th>\n",
       "      <th></th>\n",
       "      <th></th>\n",
       "      <th></th>\n",
       "      <th></th>\n",
       "      <th></th>\n",
       "      <th></th>\n",
       "      <th></th>\n",
       "      <th></th>\n",
       "      <th></th>\n",
       "      <th></th>\n",
       "    </tr>\n",
       "  </thead>\n",
       "  <tbody>\n",
       "    <tr>\n",
       "      <th>1</th>\n",
       "      <td>0</td>\n",
       "      <td>2917</td>\n",
       "      <td>(0, 2917)</td>\n",
       "      <td>0</td>\n",
       "      <td>0.00000</td>\n",
       "      <td>0.0</td>\n",
       "      <td>0.00</td>\n",
       "      <td>56</td>\n",
       "      <td>-0.000552</td>\n",
       "      <td>0.000220</td>\n",
       "      <td>...</td>\n",
       "      <td>-0.989594</td>\n",
       "      <td>0.318250</td>\n",
       "      <td>1.025849</td>\n",
       "      <td>1.072989</td>\n",
       "      <td>-0.084099</td>\n",
       "      <td>-0.696392</td>\n",
       "      <td>-0.338227</td>\n",
       "      <td>-0.114178</td>\n",
       "      <td>-0.235864</td>\n",
       "      <td>1.041262e-02</td>\n",
       "    </tr>\n",
       "    <tr>\n",
       "      <th>2</th>\n",
       "      <td>0</td>\n",
       "      <td>2956</td>\n",
       "      <td>(0, 2956)</td>\n",
       "      <td>0</td>\n",
       "      <td>0.00000</td>\n",
       "      <td>0.0</td>\n",
       "      <td>0.00</td>\n",
       "      <td>24</td>\n",
       "      <td>-0.000088</td>\n",
       "      <td>0.000220</td>\n",
       "      <td>...</td>\n",
       "      <td>-1.120674</td>\n",
       "      <td>0.378106</td>\n",
       "      <td>0.360288</td>\n",
       "      <td>1.130361</td>\n",
       "      <td>0.871391</td>\n",
       "      <td>-0.439986</td>\n",
       "      <td>-0.701735</td>\n",
       "      <td>-0.003102</td>\n",
       "      <td>-0.748156</td>\n",
       "      <td>1.000000e-07</td>\n",
       "    </tr>\n",
       "    <tr>\n",
       "      <th>3</th>\n",
       "      <td>1</td>\n",
       "      <td>4038</td>\n",
       "      <td>(1, 4038)</td>\n",
       "      <td>0</td>\n",
       "      <td>0.00000</td>\n",
       "      <td>0.0</td>\n",
       "      <td>0.00</td>\n",
       "      <td>496</td>\n",
       "      <td>0.009896</td>\n",
       "      <td>0.000291</td>\n",
       "      <td>...</td>\n",
       "      <td>0.112067</td>\n",
       "      <td>0.327012</td>\n",
       "      <td>0.046739</td>\n",
       "      <td>0.370075</td>\n",
       "      <td>0.209226</td>\n",
       "      <td>0.686743</td>\n",
       "      <td>-1.708898</td>\n",
       "      <td>-0.471961</td>\n",
       "      <td>-0.802962</td>\n",
       "      <td>1.000000e-07</td>\n",
       "    </tr>\n",
       "    <tr>\n",
       "      <th>4</th>\n",
       "      <td>2</td>\n",
       "      <td>1848</td>\n",
       "      <td>(2, 1848)</td>\n",
       "      <td>2</td>\n",
       "      <td>1.24267</td>\n",
       "      <td>0.4</td>\n",
       "      <td>0.08</td>\n",
       "      <td>72</td>\n",
       "      <td>0.057307</td>\n",
       "      <td>0.000549</td>\n",
       "      <td>...</td>\n",
       "      <td>-0.774672</td>\n",
       "      <td>-0.249583</td>\n",
       "      <td>0.097737</td>\n",
       "      <td>1.224068</td>\n",
       "      <td>0.025562</td>\n",
       "      <td>-0.401903</td>\n",
       "      <td>-0.879856</td>\n",
       "      <td>-1.382236</td>\n",
       "      <td>-1.114386</td>\n",
       "      <td>9.961261e-01</td>\n",
       "    </tr>\n",
       "    <tr>\n",
       "      <th>5</th>\n",
       "      <td>3</td>\n",
       "      <td>513</td>\n",
       "      <td>(3, 513)</td>\n",
       "      <td>0</td>\n",
       "      <td>0.00000</td>\n",
       "      <td>0.0</td>\n",
       "      <td>0.00</td>\n",
       "      <td>391</td>\n",
       "      <td>-0.138788</td>\n",
       "      <td>0.000362</td>\n",
       "      <td>...</td>\n",
       "      <td>-0.071756</td>\n",
       "      <td>0.850157</td>\n",
       "      <td>0.056224</td>\n",
       "      <td>0.033808</td>\n",
       "      <td>0.243672</td>\n",
       "      <td>0.351791</td>\n",
       "      <td>-0.461942</td>\n",
       "      <td>-0.055407</td>\n",
       "      <td>-0.761750</td>\n",
       "      <td>1.000000e-07</td>\n",
       "    </tr>\n",
       "  </tbody>\n",
       "</table>\n",
       "<p>5 rows × 33 columns</p>\n",
       "</div>"
      ],
      "text/plain": [
       "    Source  Sink       Pair  CN       AA   RA    JC   PA        KI     PR_s1  \\\n",
       "Id                                                                             \n",
       "1        0  2917  (0, 2917)   0  0.00000  0.0  0.00   56 -0.000552  0.000220   \n",
       "2        0  2956  (0, 2956)   0  0.00000  0.0  0.00   24 -0.000088  0.000220   \n",
       "3        1  4038  (1, 4038)   0  0.00000  0.0  0.00  496  0.009896  0.000291   \n",
       "4        2  1848  (2, 1848)   2  1.24267  0.4  0.08   72  0.057307  0.000549   \n",
       "5        3   513   (3, 513)   0  0.00000  0.0  0.00  391 -0.138788  0.000362   \n",
       "\n",
       "    ...    n2v_12    n2v_13    n2v_14    n2v_15    n2v_16    n2v_17    n2v_18  \\\n",
       "Id  ...                                                                         \n",
       "1   ... -0.989594  0.318250  1.025849  1.072989 -0.084099 -0.696392 -0.338227   \n",
       "2   ... -1.120674  0.378106  0.360288  1.130361  0.871391 -0.439986 -0.701735   \n",
       "3   ...  0.112067  0.327012  0.046739  0.370075  0.209226  0.686743 -1.708898   \n",
       "4   ... -0.774672 -0.249583  0.097737  1.224068  0.025562 -0.401903 -0.879856   \n",
       "5   ... -0.071756  0.850157  0.056224  0.033808  0.243672  0.351791 -0.461942   \n",
       "\n",
       "      n2v_19    n2v_20     Predicted  \n",
       "Id                                    \n",
       "1  -0.114178 -0.235864  1.041262e-02  \n",
       "2  -0.003102 -0.748156  1.000000e-07  \n",
       "3  -0.471961 -0.802962  1.000000e-07  \n",
       "4  -1.382236 -1.114386  9.961261e-01  \n",
       "5  -0.055407 -0.761750  1.000000e-07  \n",
       "\n",
       "[5 rows x 33 columns]"
      ]
     },
     "execution_count": 54,
     "metadata": {},
     "output_type": "execute_result"
    }
   ],
   "source": [
    "test[\"Predicted\"] = y_pred[:,1]\n",
    "test.head()"
   ]
  },
  {
   "cell_type": "code",
   "execution_count": 55,
   "metadata": {},
   "outputs": [],
   "source": [
    "# save result as csv\n",
    "test[['Predicted']].to_csv('result_SVM.csv')"
   ]
  },
  {
   "cell_type": "code",
   "execution_count": 12,
   "metadata": {},
   "outputs": [],
   "source": [
    "# feature selection\n",
    "# sbs = SFS(clf, k_features=4, forward=False, floating=False, cv=0)\n",
    "# sbs.fit(X, y)\n",
    "# sbs.k_feature_names_\n",
    "\n",
    "# output: ('NCA', 'CN', 'AA', 'RA')"
   ]
  },
  {
   "cell_type": "code",
   "execution_count": 13,
   "metadata": {},
   "outputs": [],
   "source": [
    "# fit a model with selected features\n",
    "# X = train[['NCA', 'CN', 'AA', 'RA']]\n",
    "\n",
    "# auc=[]\n",
    "# for train_index, test_index in kf.split(y):\n",
    "    # split the train data and test data\n",
    "    #X_train, X_test = X.iloc[train_index,:], X.iloc[test_index,:]\n",
    "    #y_train, y_test = y[train_index], y[test_index]\n",
    "    \n",
    "    #y_pred = clf.fit(X_train, y_train).predict_proba(X_test)\n",
    "    #auc.append(roc_auc_score(y_test, y_pred[:,1]))"
   ]
  },
  {
   "cell_type": "code",
   "execution_count": 14,
   "metadata": {},
   "outputs": [],
   "source": [
    "#y_pred"
   ]
  },
  {
   "cell_type": "code",
   "execution_count": 15,
   "metadata": {},
   "outputs": [],
   "source": [
    "#print(\"The average AUC after feature selection is:\", mean(auc))"
   ]
  },
  {
   "cell_type": "code",
   "execution_count": null,
   "metadata": {},
   "outputs": [],
   "source": []
  }
 ],
 "metadata": {
  "kernelspec": {
   "display_name": "Python 3",
   "language": "python",
   "name": "python3"
  },
  "language_info": {
   "codemirror_mode": {
    "name": "ipython",
    "version": 3
   },
   "file_extension": ".py",
   "mimetype": "text/x-python",
   "name": "python",
   "nbconvert_exporter": "python",
   "pygments_lexer": "ipython3",
   "version": "3.8.8"
  }
 },
 "nbformat": 4,
 "nbformat_minor": 4
}
