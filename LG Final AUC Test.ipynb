{
 "cells": [
  {
   "cell_type": "code",
   "execution_count": 1,
   "id": "0d99534d",
   "metadata": {},
   "outputs": [],
   "source": [
    "import pandas as pd\n",
    "import numpy as np\n",
    "\n",
    "from tqdm import tqdm\n",
    "\n",
    "import matplotlib.pyplot as plt\n",
    "\n",
    "from statistics import mean\n",
    "from sklearn.linear_model import LogisticRegression\n",
    "from sklearn.model_selection import train_test_split\n",
    "from sklearn.model_selection import StratifiedShuffleSplit\n",
    "from sklearn.model_selection import KFold\n",
    "\n",
    "from sklearn.metrics import roc_auc_score\n",
    "\n",
    "from itertools import combinations\n",
    "\n",
    "from scipy.special import expit #the logistic function\n",
    "sigmoid = expit"
   ]
  },
  {
   "cell_type": "markdown",
   "id": "1f39772e",
   "metadata": {},
   "source": [
    "# Unweighted Similarity based Features"
   ]
  },
  {
   "cell_type": "code",
   "execution_count": 2,
   "id": "6056cd57",
   "metadata": {},
   "outputs": [],
   "source": [
    "train = pd.read_csv(\"train_uw_ds/train_uw_20.csv\")\n",
    "test = pd.read_csv(\"test_uw_ds/test_uw_20.csv\")"
   ]
  },
  {
   "cell_type": "code",
   "execution_count": 3,
   "id": "6c24d37a",
   "metadata": {},
   "outputs": [],
   "source": [
    "y = train['Exist']\n",
    "X = train[['CN', 'AA', 'RA', 'JC', 'PA', 'KI', 'PR']]"
   ]
  },
  {
   "cell_type": "code",
   "execution_count": 4,
   "id": "27340d38",
   "metadata": {},
   "outputs": [
    {
     "name": "stdout",
     "output_type": "stream",
     "text": [
      "Weights according to scikit-learn: [-2.86298014e+00 -2.13459705e-02  8.40868956e+00  4.77521576e+00\n",
      "  1.09482584e+01  1.24159185e-03  9.76532989e+01  4.35123933e-01]\n"
     ]
    }
   ],
   "source": [
    "# Code adapted from Worksheet04 to calculate the coefficients\n",
    "clf = LogisticRegression(penalty='none')\n",
    "clf.fit(X, y)\n",
    "w_sklearn = np.r_[clf.intercept_, clf.coef_.squeeze()]\n",
    "print(\"Weights according to scikit-learn: {}\".format(w_sklearn))"
   ]
  },
  {
   "cell_type": "code",
   "execution_count": 5,
   "id": "de11a25c",
   "metadata": {},
   "outputs": [],
   "source": [
    "y_test = test['Exist']\n",
    "X_test = test[['CN', 'AA', 'RA', 'JC', 'PA', 'KI', 'PR']]\n",
    "X_test.insert(0,'Intercept',1)"
   ]
  },
  {
   "cell_type": "code",
   "execution_count": 8,
   "id": "f2859eb4",
   "metadata": {},
   "outputs": [
    {
     "data": {
      "text/plain": [
       "0.9227608008634838"
      ]
     },
     "execution_count": 8,
     "metadata": {},
     "output_type": "execute_result"
    }
   ],
   "source": [
    "Prob = sigmoid(X_test @ w_sklearn)\n",
    "test[\"Predicted\"] = Prob \n",
    "roc_auc_score(y_test, test['Predicted'])"
   ]
  },
  {
   "cell_type": "code",
   "execution_count": 9,
   "id": "a9f3c2cf",
   "metadata": {},
   "outputs": [
    {
     "data": {
      "text/plain": [
       "0       1.000000\n",
       "1       0.976138\n",
       "2       1.000000\n",
       "3       0.997351\n",
       "4       0.525297\n",
       "          ...   \n",
       "6409    0.054978\n",
       "6410    0.054079\n",
       "6411    0.056429\n",
       "6412    0.054530\n",
       "6413    0.061304\n",
       "Name: Predicted, Length: 6414, dtype: float64"
      ]
     },
     "execution_count": 9,
     "metadata": {},
     "output_type": "execute_result"
    }
   ],
   "source": [
    "test['Predicted']"
   ]
  },
  {
   "cell_type": "code",
   "execution_count": 6,
   "id": "bbfd0c74",
   "metadata": {},
   "outputs": [
    {
     "data": {
      "text/plain": [
       "0       1\n",
       "1       1\n",
       "2       1\n",
       "3       1\n",
       "4       1\n",
       "       ..\n",
       "6409    0\n",
       "6410    0\n",
       "6411    0\n",
       "6412    0\n",
       "6413    0\n",
       "Name: Exist, Length: 6414, dtype: int64"
      ]
     },
     "execution_count": 6,
     "metadata": {},
     "output_type": "execute_result"
    }
   ],
   "source": [
    "y_test"
   ]
  },
  {
   "cell_type": "markdown",
   "id": "8c8cc34f",
   "metadata": {},
   "source": [
    "# Weak ties with different alphas"
   ]
  },
  {
   "cell_type": "code",
   "execution_count": 9,
   "id": "579d81e4",
   "metadata": {},
   "outputs": [
    {
     "data": {
      "text/html": [
       "<div>\n",
       "<style scoped>\n",
       "    .dataframe tbody tr th:only-of-type {\n",
       "        vertical-align: middle;\n",
       "    }\n",
       "\n",
       "    .dataframe tbody tr th {\n",
       "        vertical-align: top;\n",
       "    }\n",
       "\n",
       "    .dataframe thead th {\n",
       "        text-align: right;\n",
       "    }\n",
       "</style>\n",
       "<table border=\"1\" class=\"dataframe\">\n",
       "  <thead>\n",
       "    <tr style=\"text-align: right;\">\n",
       "      <th></th>\n",
       "      <th>AUC</th>\n",
       "    </tr>\n",
       "  </thead>\n",
       "  <tbody>\n",
       "    <tr>\n",
       "      <th>-3.0</th>\n",
       "      <td>0.926881</td>\n",
       "    </tr>\n",
       "    <tr>\n",
       "      <th>-2.9</th>\n",
       "      <td>0.926899</td>\n",
       "    </tr>\n",
       "    <tr>\n",
       "      <th>-2.8</th>\n",
       "      <td>0.926914</td>\n",
       "    </tr>\n",
       "    <tr>\n",
       "      <th>-2.7</th>\n",
       "      <td>0.926932</td>\n",
       "    </tr>\n",
       "    <tr>\n",
       "      <th>-2.6</th>\n",
       "      <td>0.926951</td>\n",
       "    </tr>\n",
       "    <tr>\n",
       "      <th>...</th>\n",
       "      <td>...</td>\n",
       "    </tr>\n",
       "    <tr>\n",
       "      <th>2.6</th>\n",
       "      <td>0.927844</td>\n",
       "    </tr>\n",
       "    <tr>\n",
       "      <th>2.7</th>\n",
       "      <td>0.927818</td>\n",
       "    </tr>\n",
       "    <tr>\n",
       "      <th>2.8</th>\n",
       "      <td>0.927795</td>\n",
       "    </tr>\n",
       "    <tr>\n",
       "      <th>2.9</th>\n",
       "      <td>0.927771</td>\n",
       "    </tr>\n",
       "    <tr>\n",
       "      <th>3.0</th>\n",
       "      <td>0.927751</td>\n",
       "    </tr>\n",
       "  </tbody>\n",
       "</table>\n",
       "<p>61 rows × 1 columns</p>\n",
       "</div>"
      ],
      "text/plain": [
       "           AUC\n",
       "-3.0  0.926881\n",
       "-2.9  0.926899\n",
       "-2.8  0.926914\n",
       "-2.7  0.926932\n",
       "-2.6  0.926951\n",
       "...        ...\n",
       " 2.6  0.927844\n",
       " 2.7  0.927818\n",
       " 2.8  0.927795\n",
       " 2.9  0.927771\n",
       " 3.0  0.927751\n",
       "\n",
       "[61 rows x 1 columns]"
      ]
     },
     "execution_count": 9,
     "metadata": {},
     "output_type": "execute_result"
    }
   ],
   "source": [
    "alphas = [round(a*0.1,1) for a in range(-30, 31)]\n",
    "auc_weakties = []\n",
    "for a in alphas:\n",
    "    test_w = pd.read_csv(\"test_alphas/test_w_{}.csv\".format(a))\n",
    "    train_w = pd.read_csv(\"alphas/train_w_{}.csv\".format(a))\n",
    "    \n",
    "    weakties = [\"WCN\", \"WAA\", \"WRA\"] # weak ties feature list\n",
    "    X = train_w[weakties]\n",
    "    X_test = test_w[weakties]\n",
    "    X_test.insert(0,'Intercept',1)\n",
    "    y = train['Exist']\n",
    "    y_test = test['Exist']\n",
    "    \n",
    "    clf = LogisticRegression(penalty='none')\n",
    "    clf.fit(X, y)\n",
    "    w_sklearn = np.r_[clf.intercept_, clf.coef_.squeeze()]\n",
    "    \n",
    "    predict = sigmoid(X_test @ w_sklearn)\n",
    "    \n",
    "    auc_weakties.append(roc_auc_score(y_test, predict))\n",
    "    \n",
    "    \n",
    "auc_weakties = pd.DataFrame(auc_weakties, columns=[\"AUC\"])\n",
    "auc_weakties.index = alphas\n",
    "auc_weakties"
   ]
  },
  {
   "cell_type": "code",
   "execution_count": 10,
   "id": "9cbb3e3e",
   "metadata": {},
   "outputs": [
    {
     "data": {
      "image/png": "[encoded data removed]",
      "text/plain": [
       "<Figure size 432x288 with 1 Axes>"
      ]
     },
     "metadata": {
      "needs_background": "light"
     },
     "output_type": "display_data"
    }
   ],
   "source": [
    "fig = plt.figure()\n",
    "ax1 = fig.add_subplot(111)\n",
    "ax1.scatter(auc_weakties.index, auc_weakties.AUC, s=10, c='b', marker=\"o\")\n",
    "\n",
    "plt.show()"
   ]
  },
  {
   "cell_type": "code",
   "execution_count": 12,
   "id": "7208853c",
   "metadata": {},
   "outputs": [
    {
     "name": "stdout",
     "output_type": "stream",
     "text": [
      "The optimal alpha is 0.8\n",
      "The optimal AUC is 0.9283272899777139\n"
     ]
    }
   ],
   "source": [
    "print('The optimal alpha is {}'.format(auc_weakties.AUC.idxmax()))\n",
    "print('The optimal AUC is {}'.format(auc_weakties.AUC.max()))"
   ]
  },
  {
   "cell_type": "code",
   "execution_count": 35,
   "id": "fc234b23",
   "metadata": {},
   "outputs": [],
   "source": [
    "auc_weakties.to_csv(\"LG_weakties_auc.csv\")"
   ]
  },
  {
   "cell_type": "markdown",
   "id": "5d95d85d",
   "metadata": {},
   "source": [
    "# Node2Vec with different dimensions"
   ]
  },
  {
   "cell_type": "code",
   "execution_count": 21,
   "id": "e1b5e727",
   "metadata": {},
   "outputs": [
    {
     "data": {
      "text/html": [
       "<div>\n",
       "<style scoped>\n",
       "    .dataframe tbody tr th:only-of-type {\n",
       "        vertical-align: middle;\n",
       "    }\n",
       "\n",
       "    .dataframe tbody tr th {\n",
       "        vertical-align: top;\n",
       "    }\n",
       "\n",
       "    .dataframe thead th {\n",
       "        text-align: right;\n",
       "    }\n",
       "</style>\n",
       "<table border=\"1\" class=\"dataframe\">\n",
       "  <thead>\n",
       "    <tr style=\"text-align: right;\">\n",
       "      <th></th>\n",
       "      <th>AUC</th>\n",
       "    </tr>\n",
       "  </thead>\n",
       "  <tbody>\n",
       "    <tr>\n",
       "      <th>20</th>\n",
       "      <td>0.745246</td>\n",
       "    </tr>\n",
       "    <tr>\n",
       "      <th>25</th>\n",
       "      <td>0.743504</td>\n",
       "    </tr>\n",
       "    <tr>\n",
       "      <th>30</th>\n",
       "      <td>0.743811</td>\n",
       "    </tr>\n",
       "    <tr>\n",
       "      <th>35</th>\n",
       "      <td>0.744358</td>\n",
       "    </tr>\n",
       "    <tr>\n",
       "      <th>40</th>\n",
       "      <td>0.744707</td>\n",
       "    </tr>\n",
       "    <tr>\n",
       "      <th>45</th>\n",
       "      <td>0.737250</td>\n",
       "    </tr>\n",
       "    <tr>\n",
       "      <th>55</th>\n",
       "      <td>0.746848</td>\n",
       "    </tr>\n",
       "    <tr>\n",
       "      <th>60</th>\n",
       "      <td>0.746396</td>\n",
       "    </tr>\n",
       "    <tr>\n",
       "      <th>65</th>\n",
       "      <td>0.745597</td>\n",
       "    </tr>\n",
       "    <tr>\n",
       "      <th>70</th>\n",
       "      <td>0.741493</td>\n",
       "    </tr>\n",
       "    <tr>\n",
       "      <th>75</th>\n",
       "      <td>0.745292</td>\n",
       "    </tr>\n",
       "    <tr>\n",
       "      <th>80</th>\n",
       "      <td>0.743485</td>\n",
       "    </tr>\n",
       "    <tr>\n",
       "      <th>85</th>\n",
       "      <td>0.746503</td>\n",
       "    </tr>\n",
       "    <tr>\n",
       "      <th>90</th>\n",
       "      <td>0.744168</td>\n",
       "    </tr>\n",
       "    <tr>\n",
       "      <th>100</th>\n",
       "      <td>0.744507</td>\n",
       "    </tr>\n",
       "    <tr>\n",
       "      <th>110</th>\n",
       "      <td>0.740978</td>\n",
       "    </tr>\n",
       "  </tbody>\n",
       "</table>\n",
       "</div>"
      ],
      "text/plain": [
       "          AUC\n",
       "20   0.745246\n",
       "25   0.743504\n",
       "30   0.743811\n",
       "35   0.744358\n",
       "40   0.744707\n",
       "45   0.737250\n",
       "55   0.746848\n",
       "60   0.746396\n",
       "65   0.745597\n",
       "70   0.741493\n",
       "75   0.745292\n",
       "80   0.743485\n",
       "85   0.746503\n",
       "90   0.744168\n",
       "100  0.744507\n",
       "110  0.740978"
      ]
     },
     "execution_count": 21,
     "metadata": {},
     "output_type": "execute_result"
    }
   ],
   "source": [
    "ds = [20, 25, 30, 35, 40, 45, 55, 60, 65, 70, 75, 80, 85, 90, 100, 110]\n",
    "auc_n2v = []\n",
    "for d in ds:\n",
    "    train_n2v = pd.read_csv(\"train_uw_ds/train_uw_{}.csv\".format(d))\n",
    "    test_n2v = pd.read_csv(\"test_uw_ds/test_uw_{}.csv\".format(d))\n",
    "    n2vF = [\"n2v_\"+str(i+1) for i in range(d)] # node2vec feature list\n",
    "    X = train_n2v[n2vF]\n",
    "    y = train_n2v['Exist']\n",
    "    X_test = test_n2v[n2vF]\n",
    "    y_test = test_n2v['Exist']\n",
    "\n",
    "    \n",
    "    clf = LogisticRegression(penalty='none')\n",
    "    clf.fit(X, y)\n",
    "    w_sklearn = np.r_[clf.intercept_, clf.coef_.squeeze()]\n",
    "    \n",
    "    X_test.insert(0,'Intercept',1)\n",
    "    predict = sigmoid(X_test @ w_sklearn)\n",
    "\n",
    "    auc_n2v.append(roc_auc_score(y_test, predict))\n",
    "    \n",
    "    \n",
    "auc_n2v = pd.DataFrame(auc_n2v, columns=[\"AUC\"])\n",
    "auc_n2v.index = ds\n",
    "auc_n2v"
   ]
  },
  {
   "cell_type": "code",
   "execution_count": 34,
   "id": "e1bccecb",
   "metadata": {},
   "outputs": [],
   "source": [
    "auc_n2v.to_csv(\"LG_n2v_auc.csv\")"
   ]
  },
  {
   "cell_type": "code",
   "execution_count": 33,
   "id": "7decaba4",
   "metadata": {},
   "outputs": [
    {
     "data": {
      "image/png": "[encoded data removed]",
      "text/plain": [
       "<Figure size 432x288 with 1 Axes>"
      ]
     },
     "metadata": {
      "needs_background": "light"
     },
     "output_type": "display_data"
    }
   ],
   "source": [
    "fig = plt.figure()\n",
    "ax1 = fig.add_subplot(111)\n",
    "ax1.scatter(auc_n2v.index, auc_n2v.AUC, s=10, c='b', marker=\"o\")\n",
    "\n",
    "plt.show()"
   ]
  },
  {
   "cell_type": "code",
   "execution_count": 23,
   "id": "082d9311",
   "metadata": {},
   "outputs": [
    {
     "name": "stdout",
     "output_type": "stream",
     "text": [
      "The optimal dimension is 55\n",
      "The optimal AUC is 0.7468484952963336\n"
     ]
    }
   ],
   "source": [
    "print('The optimal dimension is {}'.format(auc_n2v.AUC.idxmax()))\n",
    "print('The optimal AUC is {}'.format(auc_n2v.AUC.max()))"
   ]
  },
  {
   "cell_type": "code",
   "execution_count": null,
   "id": "e7d5ec68",
   "metadata": {},
   "outputs": [],
   "source": []
  }
 ],
 "metadata": {
  "kernelspec": {
   "display_name": "Python 3",
   "language": "python",
   "name": "python3"
  },
  "language_info": {
   "codemirror_mode": {
    "name": "ipython",
    "version": 3
   },
   "file_extension": ".py",
   "mimetype": "text/x-python",
   "name": "python",
   "nbconvert_exporter": "python",
   "pygments_lexer": "ipython3",
   "version": "3.8.8"
  }
 },
 "nbformat": 4,
 "nbformat_minor": 5
}
